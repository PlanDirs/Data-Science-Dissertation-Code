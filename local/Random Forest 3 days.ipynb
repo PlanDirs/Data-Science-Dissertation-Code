{
 "cells": [
  {
   "cell_type": "code",
   "execution_count": 74,
   "id": "e94eae89",
   "metadata": {},
   "outputs": [],
   "source": [
    "import pandas as pd\n",
    "import numpy as np"
   ]
  },
  {
   "cell_type": "code",
   "execution_count": 75,
   "id": "b369549c",
   "metadata": {},
   "outputs": [],
   "source": [
    "df = pd.read_csv(\"D:/One Drive/OneDrive - University of Bristol/Bristol Data Science/Project/Data/Weather/cleaned_data_weather.csv\")"
   ]
  },
  {
   "cell_type": "code",
   "execution_count": 76,
   "id": "873751b5",
   "metadata": {},
   "outputs": [
    {
     "data": {
      "text/plain": [
       "Index(['date', 'cloud_cover', 'sunshine', 'global_radiation', 'max_temp',\n",
       "       'mean_temp', 'min_temp', 'precipitation', 'pressure', 'snow_depth'],\n",
       "      dtype='object')"
      ]
     },
     "execution_count": 76,
     "metadata": {},
     "output_type": "execute_result"
    }
   ],
   "source": [
    "df.columns"
   ]
  },
  {
   "cell_type": "code",
   "execution_count": 77,
   "id": "685e3b93",
   "metadata": {},
   "outputs": [
    {
     "data": {
      "text/plain": [
       "<bound method NDFrame.head of            date  cloud_cover  sunshine  global_radiation  max_temp  mean_temp  \\\n",
       "0      19790101          2.0       7.0              52.0       2.3       -4.1   \n",
       "1      19790102          6.0       1.7              27.0       1.6       -2.6   \n",
       "2      19790103          5.0       0.0              13.0       1.3       -2.8   \n",
       "3      19790104          8.0       0.0              13.0      -0.3       -2.6   \n",
       "4      19790105          6.0       2.0              29.0       5.6       -0.8   \n",
       "...         ...          ...       ...               ...       ...        ...   \n",
       "15076  20201224          2.0       1.3              32.0       6.1        6.1   \n",
       "15077  20201225          6.0       3.5              40.0       4.6        2.6   \n",
       "15078  20201226          5.8       2.1              38.0      10.0        4.9   \n",
       "15079  20201230          6.0       0.4              22.0       5.6        2.7   \n",
       "15080  20201231          7.0       1.3              34.0       1.5       -0.8   \n",
       "\n",
       "       min_temp  precipitation  pressure  snow_depth  \n",
       "0          -7.5            0.4  101900.0         9.0  \n",
       "1          -7.5            0.0  102530.0         8.0  \n",
       "2          -7.2            0.0  102050.0         4.0  \n",
       "3          -6.5            0.0  100840.0         2.0  \n",
       "4          -1.4            0.0  102250.0         1.0  \n",
       "...         ...            ...       ...         ...  \n",
       "15076       6.1            0.0  101830.0         0.0  \n",
       "15077       0.7            0.0  103100.0         0.0  \n",
       "15078      -0.1           12.0  101960.0         0.0  \n",
       "15079      -0.1            0.0  100200.0         0.0  \n",
       "15080      -3.1            0.0  100500.0         0.0  \n",
       "\n",
       "[15081 rows x 10 columns]>"
      ]
     },
     "execution_count": 77,
     "metadata": {},
     "output_type": "execute_result"
    }
   ],
   "source": [
    "df.head"
   ]
  },
  {
   "cell_type": "code",
   "execution_count": 78,
   "id": "25341501",
   "metadata": {},
   "outputs": [],
   "source": [
    "df_original_data = df"
   ]
  },
  {
   "cell_type": "code",
   "execution_count": 79,
   "id": "eecf7b12",
   "metadata": {},
   "outputs": [],
   "source": [
    "df['next_1_day_mean_temp'] = df_original_data['mean_temp'].shift(-1)\n",
    "df['next_2_day_mean_temp'] = df_original_data['mean_temp'].shift(-2)\n",
    "df['next_3_day_mean_temp'] = df_original_data['mean_temp'].shift(-3)"
   ]
  },
  {
   "cell_type": "code",
   "execution_count": 80,
   "id": "10ea03d1",
   "metadata": {},
   "outputs": [],
   "source": [
    "df.dropna(inplace=True)"
   ]
  },
  {
   "cell_type": "code",
   "execution_count": 81,
   "id": "d95da2dc",
   "metadata": {},
   "outputs": [
    {
     "data": {
      "text/plain": [
       "<bound method NDFrame.head of            date  cloud_cover  sunshine  global_radiation  max_temp  mean_temp  \\\n",
       "0      19790101          2.0       7.0              52.0       2.3       -4.1   \n",
       "1      19790102          6.0       1.7              27.0       1.6       -2.6   \n",
       "2      19790103          5.0       0.0              13.0       1.3       -2.8   \n",
       "3      19790104          8.0       0.0              13.0      -0.3       -2.6   \n",
       "4      19790105          6.0       2.0              29.0       5.6       -0.8   \n",
       "...         ...          ...       ...               ...       ...        ...   \n",
       "15073  20201221          8.0       3.9              37.0      13.9        9.5   \n",
       "15074  20201222          8.0       0.0              16.0      11.7       11.7   \n",
       "15075  20201223          7.0       0.0              23.0      14.0       12.0   \n",
       "15076  20201224          2.0       1.3              32.0       6.1        6.1   \n",
       "15077  20201225          6.0       3.5              40.0       4.6        2.6   \n",
       "\n",
       "       min_temp  precipitation  pressure  snow_depth  next_1_day_mean_temp  \\\n",
       "0          -7.5            0.4  101900.0         9.0                  -2.6   \n",
       "1          -7.5            0.0  102530.0         8.0                  -2.8   \n",
       "2          -7.2            0.0  102050.0         4.0                  -2.6   \n",
       "3          -6.5            0.0  100840.0         2.0                  -0.8   \n",
       "4          -1.4            0.0  102250.0         1.0                  -0.5   \n",
       "...         ...            ...       ...         ...                   ...   \n",
       "15073       5.1            3.0  100770.0         0.0                  11.7   \n",
       "15074      11.7            0.6  100970.0         0.0                  12.0   \n",
       "15075      10.1            1.8  100550.0         0.0                   6.1   \n",
       "15076       6.1            0.0  101830.0         0.0                   2.6   \n",
       "15077       0.7            0.0  103100.0         0.0                   4.9   \n",
       "\n",
       "       next_2_day_mean_temp  next_3_day_mean_temp  \n",
       "0                      -2.8                  -2.6  \n",
       "1                      -2.6                  -0.8  \n",
       "2                      -0.8                  -0.5  \n",
       "3                      -0.5                   1.5  \n",
       "4                       1.5                   6.9  \n",
       "...                     ...                   ...  \n",
       "15073                  12.0                   6.1  \n",
       "15074                   6.1                   2.6  \n",
       "15075                   2.6                   4.9  \n",
       "15076                   4.9                   2.7  \n",
       "15077                   2.7                  -0.8  \n",
       "\n",
       "[15078 rows x 13 columns]>"
      ]
     },
     "execution_count": 81,
     "metadata": {},
     "output_type": "execute_result"
    }
   ],
   "source": [
    "df.head"
   ]
  },
  {
   "cell_type": "code",
   "execution_count": 82,
   "id": "a6ed1bdf",
   "metadata": {},
   "outputs": [
    {
     "data": {
      "text/plain": [
       "date                      int64\n",
       "cloud_cover             float64\n",
       "sunshine                float64\n",
       "global_radiation        float64\n",
       "max_temp                float64\n",
       "mean_temp               float64\n",
       "min_temp                float64\n",
       "precipitation           float64\n",
       "pressure                float64\n",
       "snow_depth              float64\n",
       "next_1_day_mean_temp    float64\n",
       "next_2_day_mean_temp    float64\n",
       "next_3_day_mean_temp    float64\n",
       "dtype: object"
      ]
     },
     "execution_count": 82,
     "metadata": {},
     "output_type": "execute_result"
    }
   ],
   "source": [
    "df.dtypes"
   ]
  },
  {
   "cell_type": "code",
   "execution_count": 83,
   "id": "300abf98",
   "metadata": {},
   "outputs": [],
   "source": [
    "del df['date']"
   ]
  },
  {
   "cell_type": "markdown",
   "id": "e8ac9578",
   "metadata": {},
   "source": [
    "#### cloud_cover processing"
   ]
  },
  {
   "cell_type": "code",
   "execution_count": 84,
   "id": "d2a45357",
   "metadata": {},
   "outputs": [
    {
     "data": {
      "text/plain": [
       "7.0    3116\n",
       "6.0    2952\n",
       "5.0    2292\n",
       "8.0    1903\n",
       "4.0    1815\n",
       "3.0    1148\n",
       "2.0     860\n",
       "1.0     603\n",
       "0.0     375\n",
       "5.8       2\n",
       "6.8       2\n",
       "5.4       2\n",
       "7.4       2\n",
       "9.0       2\n",
       "5.6       1\n",
       "6.2       1\n",
       "6.6       1\n",
       "7.2       1\n",
       "Name: cloud_cover, dtype: int64"
      ]
     },
     "execution_count": 84,
     "metadata": {},
     "output_type": "execute_result"
    }
   ],
   "source": [
    "df['cloud_cover'].value_counts()"
   ]
  },
  {
   "cell_type": "code",
   "execution_count": 85,
   "id": "e6f4e68e",
   "metadata": {},
   "outputs": [],
   "source": [
    "condition = (df['cloud_cover'] % 1 != 0) | (df['cloud_cover'] > 8.0)\n",
    "\n",
    "# 从DataFrame中去除满足条件的行\n",
    "df = df[~condition]"
   ]
  },
  {
   "cell_type": "code",
   "execution_count": 86,
   "id": "ed63b8f8",
   "metadata": {},
   "outputs": [
    {
     "data": {
      "text/plain": [
       "7.0    3116\n",
       "6.0    2952\n",
       "5.0    2292\n",
       "8.0    1903\n",
       "4.0    1815\n",
       "3.0    1148\n",
       "2.0     860\n",
       "1.0     603\n",
       "0.0     375\n",
       "Name: cloud_cover, dtype: int64"
      ]
     },
     "execution_count": 86,
     "metadata": {},
     "output_type": "execute_result"
    }
   ],
   "source": [
    "df['cloud_cover'].value_counts()"
   ]
  },
  {
   "cell_type": "code",
   "execution_count": null,
   "id": "65af528e",
   "metadata": {},
   "outputs": [],
   "source": []
  },
  {
   "cell_type": "markdown",
   "id": "1fa4616f",
   "metadata": {},
   "source": [
    "#### change the sunshine into hours"
   ]
  },
  {
   "cell_type": "code",
   "execution_count": 87,
   "id": "8008de30",
   "metadata": {},
   "outputs": [
    {
     "name": "stderr",
     "output_type": "stream",
     "text": [
      "C:\\Users\\Administrator\\AppData\\Local\\Temp\\ipykernel_11968\\4129770657.py:1: SettingWithCopyWarning: \n",
      "A value is trying to be set on a copy of a slice from a DataFrame.\n",
      "Try using .loc[row_indexer,col_indexer] = value instead\n",
      "\n",
      "See the caveats in the documentation: https://pandas.pydata.org/pandas-docs/stable/user_guide/indexing.html#returning-a-view-versus-a-copy\n",
      "  df['sunshine'] = df['sunshine'] * 60\n"
     ]
    }
   ],
   "source": [
    "df['sunshine'] = df['sunshine'] * 60"
   ]
  },
  {
   "cell_type": "code",
   "execution_count": 88,
   "id": "b3bdaab7",
   "metadata": {},
   "outputs": [
    {
     "data": {
      "text/html": [
       "<div>\n",
       "<style scoped>\n",
       "    .dataframe tbody tr th:only-of-type {\n",
       "        vertical-align: middle;\n",
       "    }\n",
       "\n",
       "    .dataframe tbody tr th {\n",
       "        vertical-align: top;\n",
       "    }\n",
       "\n",
       "    .dataframe thead th {\n",
       "        text-align: right;\n",
       "    }\n",
       "</style>\n",
       "<table border=\"1\" class=\"dataframe\">\n",
       "  <thead>\n",
       "    <tr style=\"text-align: right;\">\n",
       "      <th></th>\n",
       "      <th>cloud_cover</th>\n",
       "      <th>sunshine</th>\n",
       "      <th>global_radiation</th>\n",
       "      <th>max_temp</th>\n",
       "      <th>mean_temp</th>\n",
       "      <th>min_temp</th>\n",
       "      <th>precipitation</th>\n",
       "      <th>pressure</th>\n",
       "      <th>snow_depth</th>\n",
       "      <th>next_1_day_mean_temp</th>\n",
       "      <th>next_2_day_mean_temp</th>\n",
       "      <th>next_3_day_mean_temp</th>\n",
       "    </tr>\n",
       "  </thead>\n",
       "  <tbody>\n",
       "    <tr>\n",
       "      <th>0</th>\n",
       "      <td>2.0</td>\n",
       "      <td>420.0</td>\n",
       "      <td>52.0</td>\n",
       "      <td>2.3</td>\n",
       "      <td>-4.1</td>\n",
       "      <td>-7.5</td>\n",
       "      <td>0.4</td>\n",
       "      <td>101900.0</td>\n",
       "      <td>9.0</td>\n",
       "      <td>-2.6</td>\n",
       "      <td>-2.8</td>\n",
       "      <td>-2.6</td>\n",
       "    </tr>\n",
       "    <tr>\n",
       "      <th>1</th>\n",
       "      <td>6.0</td>\n",
       "      <td>102.0</td>\n",
       "      <td>27.0</td>\n",
       "      <td>1.6</td>\n",
       "      <td>-2.6</td>\n",
       "      <td>-7.5</td>\n",
       "      <td>0.0</td>\n",
       "      <td>102530.0</td>\n",
       "      <td>8.0</td>\n",
       "      <td>-2.8</td>\n",
       "      <td>-2.6</td>\n",
       "      <td>-0.8</td>\n",
       "    </tr>\n",
       "    <tr>\n",
       "      <th>2</th>\n",
       "      <td>5.0</td>\n",
       "      <td>0.0</td>\n",
       "      <td>13.0</td>\n",
       "      <td>1.3</td>\n",
       "      <td>-2.8</td>\n",
       "      <td>-7.2</td>\n",
       "      <td>0.0</td>\n",
       "      <td>102050.0</td>\n",
       "      <td>4.0</td>\n",
       "      <td>-2.6</td>\n",
       "      <td>-0.8</td>\n",
       "      <td>-0.5</td>\n",
       "    </tr>\n",
       "    <tr>\n",
       "      <th>3</th>\n",
       "      <td>8.0</td>\n",
       "      <td>0.0</td>\n",
       "      <td>13.0</td>\n",
       "      <td>-0.3</td>\n",
       "      <td>-2.6</td>\n",
       "      <td>-6.5</td>\n",
       "      <td>0.0</td>\n",
       "      <td>100840.0</td>\n",
       "      <td>2.0</td>\n",
       "      <td>-0.8</td>\n",
       "      <td>-0.5</td>\n",
       "      <td>1.5</td>\n",
       "    </tr>\n",
       "    <tr>\n",
       "      <th>4</th>\n",
       "      <td>6.0</td>\n",
       "      <td>120.0</td>\n",
       "      <td>29.0</td>\n",
       "      <td>5.6</td>\n",
       "      <td>-0.8</td>\n",
       "      <td>-1.4</td>\n",
       "      <td>0.0</td>\n",
       "      <td>102250.0</td>\n",
       "      <td>1.0</td>\n",
       "      <td>-0.5</td>\n",
       "      <td>1.5</td>\n",
       "      <td>6.9</td>\n",
       "    </tr>\n",
       "  </tbody>\n",
       "</table>\n",
       "</div>"
      ],
      "text/plain": [
       "   cloud_cover  sunshine  global_radiation  max_temp  mean_temp  min_temp  \\\n",
       "0          2.0     420.0              52.0       2.3       -4.1      -7.5   \n",
       "1          6.0     102.0              27.0       1.6       -2.6      -7.5   \n",
       "2          5.0       0.0              13.0       1.3       -2.8      -7.2   \n",
       "3          8.0       0.0              13.0      -0.3       -2.6      -6.5   \n",
       "4          6.0     120.0              29.0       5.6       -0.8      -1.4   \n",
       "\n",
       "   precipitation  pressure  snow_depth  next_1_day_mean_temp  \\\n",
       "0            0.4  101900.0         9.0                  -2.6   \n",
       "1            0.0  102530.0         8.0                  -2.8   \n",
       "2            0.0  102050.0         4.0                  -2.6   \n",
       "3            0.0  100840.0         2.0                  -0.8   \n",
       "4            0.0  102250.0         1.0                  -0.5   \n",
       "\n",
       "   next_2_day_mean_temp  next_3_day_mean_temp  \n",
       "0                  -2.8                  -2.6  \n",
       "1                  -2.6                  -0.8  \n",
       "2                  -0.8                  -0.5  \n",
       "3                  -0.5                   1.5  \n",
       "4                   1.5                   6.9  "
      ]
     },
     "execution_count": 88,
     "metadata": {},
     "output_type": "execute_result"
    }
   ],
   "source": [
    "df.head()"
   ]
  },
  {
   "cell_type": "code",
   "execution_count": null,
   "id": "b131fa65",
   "metadata": {},
   "outputs": [],
   "source": []
  },
  {
   "cell_type": "markdown",
   "id": "8c786d31",
   "metadata": {},
   "source": [
    "#### change snow depth into a category value"
   ]
  },
  {
   "cell_type": "code",
   "execution_count": 89,
   "id": "37a8b032",
   "metadata": {},
   "outputs": [
    {
     "data": {
      "text/plain": [
       "0.0     14933\n",
       "1.0        45\n",
       "2.0        23\n",
       "4.0        15\n",
       "3.0        15\n",
       "5.0         6\n",
       "6.0         4\n",
       "7.0         4\n",
       "8.0         4\n",
       "10.0        2\n",
       "0.4         2\n",
       "12.0        2\n",
       "11.0        2\n",
       "9.0         1\n",
       "18.0        1\n",
       "13.0        1\n",
       "15.0        1\n",
       "16.0        1\n",
       "22.0        1\n",
       "0.8         1\n",
       "Name: snow_depth, dtype: int64"
      ]
     },
     "execution_count": 89,
     "metadata": {},
     "output_type": "execute_result"
    }
   ],
   "source": [
    "df['snow_depth'].value_counts()"
   ]
  },
  {
   "cell_type": "code",
   "execution_count": 90,
   "id": "06622a41",
   "metadata": {},
   "outputs": [],
   "source": [
    "df.loc[df['snow_depth'] > 0, 'snow_depth'] = 1.0"
   ]
  },
  {
   "cell_type": "code",
   "execution_count": 91,
   "id": "965a56d1",
   "metadata": {},
   "outputs": [
    {
     "data": {
      "text/plain": [
       "0.0    14933\n",
       "1.0      131\n",
       "Name: snow_depth, dtype: int64"
      ]
     },
     "execution_count": 91,
     "metadata": {},
     "output_type": "execute_result"
    }
   ],
   "source": [
    "df['snow_depth'].value_counts()"
   ]
  },
  {
   "cell_type": "code",
   "execution_count": null,
   "id": "4cf3a38b",
   "metadata": {},
   "outputs": [],
   "source": []
  },
  {
   "cell_type": "markdown",
   "id": "de0ded2c",
   "metadata": {},
   "source": [
    "#### change the precipitation into category value¶"
   ]
  },
  {
   "cell_type": "code",
   "execution_count": 92,
   "id": "ed825e16",
   "metadata": {},
   "outputs": [
    {
     "data": {
      "text/plain": [
       "0.00     7907\n",
       "0.20     1005\n",
       "0.40      452\n",
       "0.10      313\n",
       "0.60      297\n",
       "         ... \n",
       "53.10       1\n",
       "18.70       1\n",
       "25.40       1\n",
       "20.00       1\n",
       "0.46        1\n",
       "Name: precipitation, Length: 261, dtype: int64"
      ]
     },
     "execution_count": 92,
     "metadata": {},
     "output_type": "execute_result"
    }
   ],
   "source": [
    "df['precipitation'].value_counts()"
   ]
  },
  {
   "cell_type": "code",
   "execution_count": 93,
   "id": "f7eddd95",
   "metadata": {},
   "outputs": [
    {
     "name": "stderr",
     "output_type": "stream",
     "text": [
      "C:\\Users\\Administrator\\AppData\\Local\\Temp\\ipykernel_11968\\1477534085.py:4: SettingWithCopyWarning: \n",
      "A value is trying to be set on a copy of a slice from a DataFrame.\n",
      "Try using .loc[row_indexer,col_indexer] = value instead\n",
      "\n",
      "See the caveats in the documentation: https://pandas.pydata.org/pandas-docs/stable/user_guide/indexing.html#returning-a-view-versus-a-copy\n",
      "  df['precipitation'] = pd.cut(df['precipitation'], bins=bins, labels=labels, right=False)\n"
     ]
    }
   ],
   "source": [
    "bins = [-float('inf'), 0.1, 2.5, 10, 50, float('inf')]\n",
    "labels = [0, 1, 2, 3, 4]\n",
    "\n",
    "df['precipitation'] = pd.cut(df['precipitation'], bins=bins, labels=labels, right=False)"
   ]
  },
  {
   "cell_type": "code",
   "execution_count": 94,
   "id": "7548a508",
   "metadata": {},
   "outputs": [
    {
     "data": {
      "text/plain": [
       "0    7907\n",
       "1    4251\n",
       "2    2335\n",
       "3     567\n",
       "4       4\n",
       "Name: precipitation, dtype: int64"
      ]
     },
     "execution_count": 94,
     "metadata": {},
     "output_type": "execute_result"
    }
   ],
   "source": [
    "df['precipitation'].value_counts()"
   ]
  },
  {
   "cell_type": "code",
   "execution_count": null,
   "id": "7834aa48",
   "metadata": {},
   "outputs": [],
   "source": []
  },
  {
   "cell_type": "markdown",
   "id": "52a5ebb5",
   "metadata": {},
   "source": [
    "#### everything is ready"
   ]
  },
  {
   "cell_type": "code",
   "execution_count": 95,
   "id": "06cf298d",
   "metadata": {},
   "outputs": [
    {
     "data": {
      "text/html": [
       "<div>\n",
       "<style scoped>\n",
       "    .dataframe tbody tr th:only-of-type {\n",
       "        vertical-align: middle;\n",
       "    }\n",
       "\n",
       "    .dataframe tbody tr th {\n",
       "        vertical-align: top;\n",
       "    }\n",
       "\n",
       "    .dataframe thead th {\n",
       "        text-align: right;\n",
       "    }\n",
       "</style>\n",
       "<table border=\"1\" class=\"dataframe\">\n",
       "  <thead>\n",
       "    <tr style=\"text-align: right;\">\n",
       "      <th></th>\n",
       "      <th>cloud_cover</th>\n",
       "      <th>sunshine</th>\n",
       "      <th>global_radiation</th>\n",
       "      <th>max_temp</th>\n",
       "      <th>mean_temp</th>\n",
       "      <th>min_temp</th>\n",
       "      <th>precipitation</th>\n",
       "      <th>pressure</th>\n",
       "      <th>snow_depth</th>\n",
       "      <th>next_1_day_mean_temp</th>\n",
       "      <th>next_2_day_mean_temp</th>\n",
       "      <th>next_3_day_mean_temp</th>\n",
       "    </tr>\n",
       "  </thead>\n",
       "  <tbody>\n",
       "    <tr>\n",
       "      <th>0</th>\n",
       "      <td>2.0</td>\n",
       "      <td>420.0</td>\n",
       "      <td>52.0</td>\n",
       "      <td>2.3</td>\n",
       "      <td>-4.1</td>\n",
       "      <td>-7.5</td>\n",
       "      <td>1</td>\n",
       "      <td>101900.0</td>\n",
       "      <td>1.0</td>\n",
       "      <td>-2.6</td>\n",
       "      <td>-2.8</td>\n",
       "      <td>-2.6</td>\n",
       "    </tr>\n",
       "    <tr>\n",
       "      <th>1</th>\n",
       "      <td>6.0</td>\n",
       "      <td>102.0</td>\n",
       "      <td>27.0</td>\n",
       "      <td>1.6</td>\n",
       "      <td>-2.6</td>\n",
       "      <td>-7.5</td>\n",
       "      <td>0</td>\n",
       "      <td>102530.0</td>\n",
       "      <td>1.0</td>\n",
       "      <td>-2.8</td>\n",
       "      <td>-2.6</td>\n",
       "      <td>-0.8</td>\n",
       "    </tr>\n",
       "    <tr>\n",
       "      <th>2</th>\n",
       "      <td>5.0</td>\n",
       "      <td>0.0</td>\n",
       "      <td>13.0</td>\n",
       "      <td>1.3</td>\n",
       "      <td>-2.8</td>\n",
       "      <td>-7.2</td>\n",
       "      <td>0</td>\n",
       "      <td>102050.0</td>\n",
       "      <td>1.0</td>\n",
       "      <td>-2.6</td>\n",
       "      <td>-0.8</td>\n",
       "      <td>-0.5</td>\n",
       "    </tr>\n",
       "    <tr>\n",
       "      <th>3</th>\n",
       "      <td>8.0</td>\n",
       "      <td>0.0</td>\n",
       "      <td>13.0</td>\n",
       "      <td>-0.3</td>\n",
       "      <td>-2.6</td>\n",
       "      <td>-6.5</td>\n",
       "      <td>0</td>\n",
       "      <td>100840.0</td>\n",
       "      <td>1.0</td>\n",
       "      <td>-0.8</td>\n",
       "      <td>-0.5</td>\n",
       "      <td>1.5</td>\n",
       "    </tr>\n",
       "    <tr>\n",
       "      <th>4</th>\n",
       "      <td>6.0</td>\n",
       "      <td>120.0</td>\n",
       "      <td>29.0</td>\n",
       "      <td>5.6</td>\n",
       "      <td>-0.8</td>\n",
       "      <td>-1.4</td>\n",
       "      <td>0</td>\n",
       "      <td>102250.0</td>\n",
       "      <td>1.0</td>\n",
       "      <td>-0.5</td>\n",
       "      <td>1.5</td>\n",
       "      <td>6.9</td>\n",
       "    </tr>\n",
       "  </tbody>\n",
       "</table>\n",
       "</div>"
      ],
      "text/plain": [
       "   cloud_cover  sunshine  global_radiation  max_temp  mean_temp  min_temp  \\\n",
       "0          2.0     420.0              52.0       2.3       -4.1      -7.5   \n",
       "1          6.0     102.0              27.0       1.6       -2.6      -7.5   \n",
       "2          5.0       0.0              13.0       1.3       -2.8      -7.2   \n",
       "3          8.0       0.0              13.0      -0.3       -2.6      -6.5   \n",
       "4          6.0     120.0              29.0       5.6       -0.8      -1.4   \n",
       "\n",
       "  precipitation  pressure  snow_depth  next_1_day_mean_temp  \\\n",
       "0             1  101900.0         1.0                  -2.6   \n",
       "1             0  102530.0         1.0                  -2.8   \n",
       "2             0  102050.0         1.0                  -2.6   \n",
       "3             0  100840.0         1.0                  -0.8   \n",
       "4             0  102250.0         1.0                  -0.5   \n",
       "\n",
       "   next_2_day_mean_temp  next_3_day_mean_temp  \n",
       "0                  -2.8                  -2.6  \n",
       "1                  -2.6                  -0.8  \n",
       "2                  -0.8                  -0.5  \n",
       "3                  -0.5                   1.5  \n",
       "4                   1.5                   6.9  "
      ]
     },
     "execution_count": 95,
     "metadata": {},
     "output_type": "execute_result"
    }
   ],
   "source": [
    "df.head()"
   ]
  },
  {
   "cell_type": "code",
   "execution_count": null,
   "id": "f7b4156b",
   "metadata": {},
   "outputs": [],
   "source": []
  },
  {
   "cell_type": "code",
   "execution_count": 96,
   "id": "9cf1efcf",
   "metadata": {},
   "outputs": [
    {
     "name": "stderr",
     "output_type": "stream",
     "text": [
      "C:\\Users\\Administrator\\AppData\\Local\\Temp\\ipykernel_11968\\600593283.py:1: SettingWithCopyWarning: \n",
      "A value is trying to be set on a copy of a slice from a DataFrame.\n",
      "Try using .loc[row_indexer,col_indexer] = value instead\n",
      "\n",
      "See the caveats in the documentation: https://pandas.pydata.org/pandas-docs/stable/user_guide/indexing.html#returning-a-view-versus-a-copy\n",
      "  df['precipitation'] = df['precipitation'].cat.codes\n"
     ]
    }
   ],
   "source": [
    "df['precipitation'] = df['precipitation'].cat.codes"
   ]
  },
  {
   "cell_type": "code",
   "execution_count": 97,
   "id": "44f4b29d",
   "metadata": {},
   "outputs": [
    {
     "name": "stderr",
     "output_type": "stream",
     "text": [
      "C:\\Users\\Administrator\\AppData\\Local\\Temp\\ipykernel_11968\\3800958554.py:1: SettingWithCopyWarning: \n",
      "A value is trying to be set on a copy of a slice from a DataFrame.\n",
      "Try using .loc[row_indexer,col_indexer] = value instead\n",
      "\n",
      "See the caveats in the documentation: https://pandas.pydata.org/pandas-docs/stable/user_guide/indexing.html#returning-a-view-versus-a-copy\n",
      "  df['precipitation'] = df['precipitation'].astype('float64')\n"
     ]
    }
   ],
   "source": [
    "df['precipitation'] = df['precipitation'].astype('float64')"
   ]
  },
  {
   "cell_type": "code",
   "execution_count": 98,
   "id": "9b8dfefe",
   "metadata": {},
   "outputs": [
    {
     "data": {
      "text/plain": [
       "cloud_cover             float64\n",
       "sunshine                float64\n",
       "global_radiation        float64\n",
       "max_temp                float64\n",
       "mean_temp               float64\n",
       "min_temp                float64\n",
       "precipitation           float64\n",
       "pressure                float64\n",
       "snow_depth              float64\n",
       "next_1_day_mean_temp    float64\n",
       "next_2_day_mean_temp    float64\n",
       "next_3_day_mean_temp    float64\n",
       "dtype: object"
      ]
     },
     "execution_count": 98,
     "metadata": {},
     "output_type": "execute_result"
    }
   ],
   "source": [
    "df.dtypes"
   ]
  },
  {
   "cell_type": "code",
   "execution_count": null,
   "id": "474371d1",
   "metadata": {},
   "outputs": [],
   "source": []
  },
  {
   "cell_type": "markdown",
   "id": "ded04746",
   "metadata": {},
   "source": [
    "df['cloud_cover'] = df['cloud_cover'].astype('category')\n",
    "df['precipitation'] = df['precipitation'].astype('category')\n",
    "df['snow_depth'] = df['snow_depth'].astype('category')"
   ]
  },
  {
   "cell_type": "code",
   "execution_count": 99,
   "id": "0a5edc4b",
   "metadata": {},
   "outputs": [
    {
     "data": {
      "text/plain": [
       "cloud_cover             float64\n",
       "sunshine                float64\n",
       "global_radiation        float64\n",
       "max_temp                float64\n",
       "mean_temp               float64\n",
       "min_temp                float64\n",
       "precipitation           float64\n",
       "pressure                float64\n",
       "snow_depth              float64\n",
       "next_1_day_mean_temp    float64\n",
       "next_2_day_mean_temp    float64\n",
       "next_3_day_mean_temp    float64\n",
       "dtype: object"
      ]
     },
     "execution_count": 99,
     "metadata": {},
     "output_type": "execute_result"
    }
   ],
   "source": [
    "df.dtypes"
   ]
  },
  {
   "cell_type": "code",
   "execution_count": null,
   "id": "643b9645",
   "metadata": {},
   "outputs": [],
   "source": []
  },
  {
   "cell_type": "code",
   "execution_count": null,
   "id": "743b4a06",
   "metadata": {},
   "outputs": [],
   "source": []
  },
  {
   "cell_type": "markdown",
   "id": "85bfd7db",
   "metadata": {},
   "source": [
    "#### check the INF or NAN"
   ]
  },
  {
   "cell_type": "code",
   "execution_count": 100,
   "id": "4905a873",
   "metadata": {},
   "outputs": [
    {
     "name": "stdout",
     "output_type": "stream",
     "text": [
      "cloud_cover             False\n",
      "sunshine                False\n",
      "global_radiation        False\n",
      "max_temp                False\n",
      "mean_temp               False\n",
      "min_temp                False\n",
      "precipitation           False\n",
      "pressure                False\n",
      "snow_depth              False\n",
      "next_1_day_mean_temp    False\n",
      "next_2_day_mean_temp    False\n",
      "next_3_day_mean_temp    False\n",
      "dtype: bool\n"
     ]
    }
   ],
   "source": [
    "inf_check = np.isinf(df)\n",
    "print(inf_check.any())"
   ]
  },
  {
   "cell_type": "code",
   "execution_count": null,
   "id": "10ce1c7f",
   "metadata": {},
   "outputs": [],
   "source": []
  },
  {
   "cell_type": "code",
   "execution_count": 101,
   "id": "e73a07cd",
   "metadata": {},
   "outputs": [
    {
     "name": "stdout",
     "output_type": "stream",
     "text": [
      "cloud_cover             False\n",
      "sunshine                False\n",
      "global_radiation        False\n",
      "max_temp                False\n",
      "mean_temp               False\n",
      "min_temp                False\n",
      "precipitation           False\n",
      "pressure                False\n",
      "snow_depth              False\n",
      "next_1_day_mean_temp    False\n",
      "next_2_day_mean_temp    False\n",
      "next_3_day_mean_temp    False\n",
      "dtype: bool\n"
     ]
    }
   ],
   "source": [
    "inf_check = np.isnan(df)\n",
    "print(inf_check.any())"
   ]
  },
  {
   "cell_type": "code",
   "execution_count": null,
   "id": "154c52db",
   "metadata": {},
   "outputs": [],
   "source": []
  },
  {
   "cell_type": "code",
   "execution_count": null,
   "id": "f4ea6572",
   "metadata": {},
   "outputs": [],
   "source": []
  },
  {
   "cell_type": "code",
   "execution_count": null,
   "id": "06440ec6",
   "metadata": {},
   "outputs": [],
   "source": []
  },
  {
   "cell_type": "code",
   "execution_count": null,
   "id": "5da61907",
   "metadata": {},
   "outputs": [],
   "source": []
  },
  {
   "cell_type": "code",
   "execution_count": null,
   "id": "8b306d03",
   "metadata": {},
   "outputs": [],
   "source": []
  },
  {
   "cell_type": "code",
   "execution_count": null,
   "id": "7d8a8ed7",
   "metadata": {},
   "outputs": [],
   "source": []
  },
  {
   "cell_type": "code",
   "execution_count": null,
   "id": "c4aef7c8",
   "metadata": {},
   "outputs": [],
   "source": []
  },
  {
   "cell_type": "code",
   "execution_count": 102,
   "id": "571fc26f",
   "metadata": {},
   "outputs": [],
   "source": [
    "import pandas as pd\n",
    "from sklearn.ensemble import RandomForestRegressor\n",
    "from sklearn.model_selection import train_test_split\n",
    "from sklearn.metrics import mean_squared_error, mean_absolute_error,median_absolute_error\n",
    "from sklearn.multioutput import MultiOutputRegressor\n",
    "from scipy.stats import pearsonr\n",
    "\n",
    "\n",
    "X = df.drop(['next_1_day_mean_temp','next_2_day_mean_temp','next_3_day_mean_temp'], axis=1)\n",
    "y = df[['next_1_day_mean_temp', 'next_2_day_mean_temp','next_3_day_mean_temp']] \n",
    "\n",
    "\n",
    "X_train, X_test, y_train, y_test = train_test_split(X, y, test_size=0.2, random_state=42)\n",
    "\n",
    "\n"
   ]
  },
  {
   "cell_type": "code",
   "execution_count": null,
   "id": "c1bd36c4",
   "metadata": {},
   "outputs": [],
   "source": []
  },
  {
   "cell_type": "code",
   "execution_count": 103,
   "id": "b36513b6",
   "metadata": {},
   "outputs": [],
   "source": [
    "rf_model = MultiOutputRegressor(RandomForestRegressor(n_estimators=10, random_state=42))\n",
    "rf_model.fit(X_train, y_train)\n",
    "\n",
    "y_pred = rf_model.predict(X_test)"
   ]
  },
  {
   "cell_type": "code",
   "execution_count": null,
   "id": "aba0c57d",
   "metadata": {},
   "outputs": [],
   "source": []
  },
  {
   "cell_type": "code",
   "execution_count": null,
   "id": "152fb710",
   "metadata": {},
   "outputs": [],
   "source": []
  },
  {
   "cell_type": "code",
   "execution_count": 104,
   "id": "4e3d5612",
   "metadata": {
    "scrolled": true
   },
   "outputs": [
    {
     "name": "stdout",
     "output_type": "stream",
     "text": [
      "Mean Squared Error: 4.290025462993694\n",
      "Root Mean Squared Error: 2.0712376645362776\n",
      "Mean Absolute Error: 1.5648120367297267\n",
      "Median Absolute Error: 1.3133333333333328\n",
      "Mean Absolute Percentage Error: 28.66935238309287\n",
      "Root Mean Square Percentage Error: 125.72583179498376\n",
      "Pearson's correlation coefficient: 0.9318600313952342\n",
      "Index of Agreement: 0.8691557780429614\n"
     ]
    },
    {
     "name": "stderr",
     "output_type": "stream",
     "text": [
      "D:\\Anaconda\\lib\\site-packages\\numpy\\core\\fromnumeric.py:3438: FutureWarning: In a future version, DataFrame.mean(axis=None) will return a scalar mean over the entire DataFrame. To retain the old behavior, use 'frame.mean(axis=0)' or just 'frame.mean()'\n",
      "  return mean(axis=axis, dtype=dtype, out=out, **kwargs)\n"
     ]
    }
   ],
   "source": [
    "\n",
    "# Mean Squared Error\n",
    "mse = mean_squared_error(y_test, y_pred)\n",
    "\n",
    "# Root Mean Squared Error\n",
    "rmse = np.sqrt(mse)\n",
    "\n",
    "# Mean Absolute Error\n",
    "mae = mean_absolute_error(y_test, y_pred)\n",
    "\n",
    "# Median Absolute Error\n",
    "mdae = median_absolute_error(y_test, y_pred)\n",
    "\n",
    "# Mean Absolute Percentage Error\n",
    "diff = np.abs((y_test - y_pred) / y_test)\n",
    "diff.replace([np.inf, -np.inf], np.nan, inplace=True)\n",
    "diff.dropna(inplace=True)\n",
    "mape = np.mean(np.mean(diff)*100)\n",
    "\n",
    "# Root Mean Square Percentage Error\n",
    "n = y_test.shape[1] \n",
    "rmspe_scores = []\n",
    "for i in range(n):\n",
    "    y_obs = y_test.iloc[:, i] \n",
    "    y_predict = y_pred[:, i]  \n",
    "    diff = ((y_obs - y_predict) / y_obs) ** 2\n",
    "    diff.replace([np.inf, -np.inf], np.nan, inplace=True)\n",
    "    diff.dropna(inplace=True)\n",
    "    rmspe = np.sqrt(np.mean(diff)) * 100\n",
    "    rmspe_scores.append(rmspe)\n",
    "rmspe = np.mean(rmspe_scores)\n",
    "\n",
    "# Pearson's correlation coefficient\n",
    "correlations = []\n",
    "for i in range(y_test.shape[1]):\n",
    "    pearson_corr, _ = pearsonr(y_test.iloc[:, i], y_pred[:,i])\n",
    "    correlations.append(pearson_corr)\n",
    "mean_pearson_corr = np.mean(correlations)\n",
    "\n",
    "# Index of Agreement\n",
    "n = y_test.shape[1]  \n",
    "ia_scores = []\n",
    "for i in range(n):\n",
    "    y_obs = y_test.iloc[:, i]  \n",
    "    y_predict = y_pred[:,i]  \n",
    "    y_obs_avg = np.mean(y_obs)\n",
    "\n",
    "    numerator = np.sum((y_predict - y_obs)**2)\n",
    "    denominator = np.sum((y_obs_avg - y_obs)**2)\n",
    "    ia = 1 - (numerator / denominator)\n",
    "    ia_scores.append(ia)\n",
    "d = np.mean(ia_scores)\n",
    "\n",
    "\n",
    "print('Mean Squared Error:', mse)\n",
    "print('Root Mean Squared Error:', rmse)\n",
    "print('Mean Absolute Error:', mae)\n",
    "print('Median Absolute Error:', mdae)\n",
    "print('Mean Absolute Percentage Error:',mape)\n",
    "print('Root Mean Square Percentage Error:', rmspe)\n",
    "print('Pearson\\'s correlation coefficient:', mean_pearson_corr)\n",
    "print('Index of Agreement:', d)"
   ]
  },
  {
   "cell_type": "code",
   "execution_count": null,
   "id": "923a05cf",
   "metadata": {},
   "outputs": [],
   "source": []
  },
  {
   "cell_type": "code",
   "execution_count": null,
   "id": "9fd4cf79",
   "metadata": {},
   "outputs": [],
   "source": []
  },
  {
   "cell_type": "code",
   "execution_count": null,
   "id": "a538dd49",
   "metadata": {},
   "outputs": [],
   "source": [
    "from sklearn.model_selection import GridSearchCV\n",
    "\n",
    "# 创建随机森林回归模型\n",
    "rf_model = RandomForestRegressor()\n",
    "\n",
    "# 定义要调节的参数范围\n",
    "param_grid = {\n",
    "    'n_estimators': [100, 200, 300],\n",
    "    'max_depth': [5, 10, 15],\n",
    "    'min_samples_leaf': [1, 2, 3]\n",
    "}\n",
    "\n",
    "# 创建网格搜索对象\n",
    "grid_search = GridSearchCV(estimator=rf_model, param_grid=param_grid, cv=5, scoring='neg_mean_squared_error')\n",
    "\n",
    "# 执行网格搜索\n",
    "grid_search.fit(X_train, y_train)\n",
    "\n",
    "# 输出最佳参数组合和对应的评分\n",
    "print(\"Best Parameters: \", grid_search.best_params_)\n",
    "print(\"Best Score: \", -grid_search.best_score_)"
   ]
  }
 ],
 "metadata": {
  "hide_input": false,
  "kernelspec": {
   "display_name": "Python 3 (ipykernel)",
   "language": "python",
   "name": "python3"
  },
  "language_info": {
   "codemirror_mode": {
    "name": "ipython",
    "version": 3
   },
   "file_extension": ".py",
   "mimetype": "text/x-python",
   "name": "python",
   "nbconvert_exporter": "python",
   "pygments_lexer": "ipython3",
   "version": "3.9.12"
  },
  "varInspector": {
   "cols": {
    "lenName": 16,
    "lenType": 16,
    "lenVar": 40
   },
   "kernels_config": {
    "python": {
     "delete_cmd_postfix": "",
     "delete_cmd_prefix": "del ",
     "library": "var_list.py",
     "varRefreshCmd": "print(var_dic_list())"
    },
    "r": {
     "delete_cmd_postfix": ") ",
     "delete_cmd_prefix": "rm(",
     "library": "var_list.r",
     "varRefreshCmd": "cat(var_dic_list()) "
    }
   },
   "types_to_exclude": [
    "module",
    "function",
    "builtin_function_or_method",
    "instance",
    "_Feature"
   ],
   "window_display": false
  }
 },
 "nbformat": 4,
 "nbformat_minor": 5
}
