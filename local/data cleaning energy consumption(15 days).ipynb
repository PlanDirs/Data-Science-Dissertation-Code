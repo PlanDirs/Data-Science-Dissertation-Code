{
 "cells": [
  {
   "cell_type": "code",
   "execution_count": 42,
   "id": "99b0060d",
   "metadata": {},
   "outputs": [],
   "source": [
    "import pandas as pd\n",
    "import numpy as np\n",
    "import matplotlib.pyplot as plt"
   ]
  },
  {
   "cell_type": "code",
   "execution_count": 43,
   "id": "4cda49da",
   "metadata": {},
   "outputs": [],
   "source": [
    "df = pd.read_csv(\"D:/One Drive/OneDrive - University of Bristol/Bristol Data Science/Project/Data/Weather/data_energy.csv\")"
   ]
  },
  {
   "cell_type": "markdown",
   "id": "0c35136c",
   "metadata": {},
   "source": [
    "#### check the data"
   ]
  },
  {
   "cell_type": "code",
   "execution_count": 44,
   "id": "79845fd6",
   "metadata": {},
   "outputs": [
    {
     "data": {
      "text/html": [
       "<div>\n",
       "<style scoped>\n",
       "    .dataframe tbody tr th:only-of-type {\n",
       "        vertical-align: middle;\n",
       "    }\n",
       "\n",
       "    .dataframe tbody tr th {\n",
       "        vertical-align: top;\n",
       "    }\n",
       "\n",
       "    .dataframe thead th {\n",
       "        text-align: right;\n",
       "    }\n",
       "</style>\n",
       "<table border=\"1\" class=\"dataframe\">\n",
       "  <thead>\n",
       "    <tr style=\"text-align: right;\">\n",
       "      <th></th>\n",
       "      <th>LCLid</th>\n",
       "      <th>Date</th>\n",
       "      <th>KWH</th>\n",
       "    </tr>\n",
       "  </thead>\n",
       "  <tbody>\n",
       "    <tr>\n",
       "      <th>0</th>\n",
       "      <td>MAC000002</td>\n",
       "      <td>2012-10-12</td>\n",
       "      <td>7.098</td>\n",
       "    </tr>\n",
       "    <tr>\n",
       "      <th>1</th>\n",
       "      <td>MAC000002</td>\n",
       "      <td>2012-10-13</td>\n",
       "      <td>11.087</td>\n",
       "    </tr>\n",
       "    <tr>\n",
       "      <th>2</th>\n",
       "      <td>MAC000002</td>\n",
       "      <td>2012-10-14</td>\n",
       "      <td>13.223</td>\n",
       "    </tr>\n",
       "    <tr>\n",
       "      <th>3</th>\n",
       "      <td>MAC000002</td>\n",
       "      <td>2012-10-15</td>\n",
       "      <td>10.257</td>\n",
       "    </tr>\n",
       "    <tr>\n",
       "      <th>4</th>\n",
       "      <td>MAC000002</td>\n",
       "      <td>2012-10-16</td>\n",
       "      <td>9.769</td>\n",
       "    </tr>\n",
       "  </tbody>\n",
       "</table>\n",
       "</div>"
      ],
      "text/plain": [
       "       LCLid        Date     KWH\n",
       "0  MAC000002  2012-10-12   7.098\n",
       "1  MAC000002  2012-10-13  11.087\n",
       "2  MAC000002  2012-10-14  13.223\n",
       "3  MAC000002  2012-10-15  10.257\n",
       "4  MAC000002  2012-10-16   9.769"
      ]
     },
     "execution_count": 44,
     "metadata": {},
     "output_type": "execute_result"
    }
   ],
   "source": [
    "df.head(5)"
   ]
  },
  {
   "cell_type": "code",
   "execution_count": 4,
   "id": "a8b890ea",
   "metadata": {},
   "outputs": [
    {
     "data": {
      "text/html": [
       "<div>\n",
       "<style scoped>\n",
       "    .dataframe tbody tr th:only-of-type {\n",
       "        vertical-align: middle;\n",
       "    }\n",
       "\n",
       "    .dataframe tbody tr th {\n",
       "        vertical-align: top;\n",
       "    }\n",
       "\n",
       "    .dataframe thead th {\n",
       "        text-align: right;\n",
       "    }\n",
       "</style>\n",
       "<table border=\"1\" class=\"dataframe\">\n",
       "  <thead>\n",
       "    <tr style=\"text-align: right;\">\n",
       "      <th></th>\n",
       "      <th>LCLid</th>\n",
       "      <th>Date</th>\n",
       "      <th>KWH</th>\n",
       "    </tr>\n",
       "  </thead>\n",
       "  <tbody>\n",
       "    <tr>\n",
       "      <th>3510428</th>\n",
       "      <td>MAC005567</td>\n",
       "      <td>2014-02-24</td>\n",
       "      <td>4.107</td>\n",
       "    </tr>\n",
       "    <tr>\n",
       "      <th>3510429</th>\n",
       "      <td>MAC005567</td>\n",
       "      <td>2014-02-25</td>\n",
       "      <td>5.762</td>\n",
       "    </tr>\n",
       "    <tr>\n",
       "      <th>3510430</th>\n",
       "      <td>MAC005567</td>\n",
       "      <td>2014-02-26</td>\n",
       "      <td>5.066</td>\n",
       "    </tr>\n",
       "    <tr>\n",
       "      <th>3510431</th>\n",
       "      <td>MAC005567</td>\n",
       "      <td>2014-02-27</td>\n",
       "      <td>3.217</td>\n",
       "    </tr>\n",
       "    <tr>\n",
       "      <th>3510432</th>\n",
       "      <td>MAC005567</td>\n",
       "      <td>2014-02-28</td>\n",
       "      <td>0.366</td>\n",
       "    </tr>\n",
       "  </tbody>\n",
       "</table>\n",
       "</div>"
      ],
      "text/plain": [
       "             LCLid        Date    KWH\n",
       "3510428  MAC005567  2014-02-24  4.107\n",
       "3510429  MAC005567  2014-02-25  5.762\n",
       "3510430  MAC005567  2014-02-26  5.066\n",
       "3510431  MAC005567  2014-02-27  3.217\n",
       "3510432  MAC005567  2014-02-28  0.366"
      ]
     },
     "execution_count": 4,
     "metadata": {},
     "output_type": "execute_result"
    }
   ],
   "source": [
    "df.tail(5)"
   ]
  },
  {
   "cell_type": "code",
   "execution_count": null,
   "id": "4479e25e",
   "metadata": {},
   "outputs": [],
   "source": []
  },
  {
   "cell_type": "code",
   "execution_count": null,
   "id": "fb133060",
   "metadata": {},
   "outputs": [],
   "source": []
  },
  {
   "cell_type": "markdown",
   "id": "bb760f2b",
   "metadata": {},
   "source": [
    "#### select the right time range"
   ]
  },
  {
   "cell_type": "code",
   "execution_count": 5,
   "id": "8329ba4f",
   "metadata": {},
   "outputs": [
    {
     "name": "stdout",
     "output_type": "stream",
     "text": [
      "Date\n",
      "2011-11-23      13\n",
      "2011-11-24      25\n",
      "2011-11-25      32\n",
      "2011-11-26      41\n",
      "2011-11-27      41\n",
      "              ... \n",
      "2014-02-24    4994\n",
      "2014-02-25    4995\n",
      "2014-02-26    4993\n",
      "2014-02-27    4990\n",
      "2014-02-28    4987\n",
      "Length: 829, dtype: int64\n"
     ]
    }
   ],
   "source": [
    "date_group_counts = df.groupby('Date').size()\n",
    "print(date_group_counts)"
   ]
  },
  {
   "cell_type": "code",
   "execution_count": 6,
   "id": "bdbfa117",
   "metadata": {},
   "outputs": [
    {
     "data": {
      "image/png": "[encoded data removed]",
      "text/plain": [
       "<Figure size 720x432 with 1 Axes>"
      ]
     },
     "metadata": {
      "needs_background": "light"
     },
     "output_type": "display_data"
    }
   ],
   "source": [
    "import matplotlib.pyplot as plt\n",
    "\n",
    "date_group_counts = df.groupby('Date').size()\n",
    "\n",
    "plt.figure(figsize=(10, 6))\n",
    "\n",
    "# 标记高于 5000 的值为红色，其他为默认颜色\n",
    "above_5000 = date_group_counts[date_group_counts > 5000]\n",
    "below_5000 = date_group_counts[date_group_counts <= 5000]\n",
    "\n",
    "plt.plot(below_5000.index, below_5000.values, marker='o', linestyle='-', color = 'blue', label='Size <= 5000')\n",
    "plt.plot(above_5000.index, above_5000.values, marker='o', linestyle='-', color='red', label='Size > 5000')\n",
    "\n",
    "plt.xlabel('Date')\n",
    "plt.ylabel('Size')\n",
    "plt.title('Date vs Size')\n",
    "\n",
    "plt.xticks(date_group_counts.index[::30], rotation=90)\n",
    "plt.legend()  # 添加图例\n",
    "\n",
    "plt.tight_layout()\n",
    "plt.show()\n"
   ]
  },
  {
   "cell_type": "code",
   "execution_count": 7,
   "id": "205a4642",
   "metadata": {},
   "outputs": [
    {
     "name": "stdout",
     "output_type": "stream",
     "text": [
      "The first date with size above 5000: 2012-09-28\n"
     ]
    }
   ],
   "source": [
    "date_group_counts = df.groupby('Date').size()\n",
    "\n",
    "# 找到第一个高于 5000 的日期\n",
    "first_above_5000_date = date_group_counts[date_group_counts > 5000].index[0]\n",
    "\n",
    "print(\"The first date with size above 5000:\", first_above_5000_date)\n"
   ]
  },
  {
   "cell_type": "code",
   "execution_count": 8,
   "id": "73f99f46",
   "metadata": {},
   "outputs": [
    {
     "data": {
      "text/plain": [
       "Date\n",
       "2014-02-19    5008\n",
       "2014-02-20    5006\n",
       "2014-02-21    5004\n",
       "2014-02-22    5006\n",
       "2014-02-23    4998\n",
       "2014-02-24    4994\n",
       "2014-02-25    4995\n",
       "2014-02-26    4993\n",
       "2014-02-27    4990\n",
       "2014-02-28    4987\n",
       "dtype: int64"
      ]
     },
     "execution_count": 8,
     "metadata": {},
     "output_type": "execute_result"
    }
   ],
   "source": [
    "date_group_counts.tail(10)"
   ]
  },
  {
   "cell_type": "markdown",
   "id": "92cbbf39",
   "metadata": {},
   "source": [
    "### Data from 2012-09-28 to 2014-02-22"
   ]
  },
  {
   "cell_type": "code",
   "execution_count": 9,
   "id": "68b50d12",
   "metadata": {},
   "outputs": [],
   "source": [
    "start_date = '2012-09-28'\n",
    "end_date = '2014-02-22'\n",
    "\n",
    "# 将 'Date' 列转换为日期时间格式，以便进行比较\n",
    "df['Date'] = pd.to_datetime(df['Date'])\n",
    "\n",
    "# 使用条件筛选，保留在指定日期范围内的数据\n",
    "df = df[(df['Date'] >= start_date) & (df['Date'] <= end_date)]"
   ]
  },
  {
   "cell_type": "code",
   "execution_count": 10,
   "id": "fa9752a1",
   "metadata": {},
   "outputs": [
    {
     "data": {
      "text/html": [
       "<div>\n",
       "<style scoped>\n",
       "    .dataframe tbody tr th:only-of-type {\n",
       "        vertical-align: middle;\n",
       "    }\n",
       "\n",
       "    .dataframe tbody tr th {\n",
       "        vertical-align: top;\n",
       "    }\n",
       "\n",
       "    .dataframe thead th {\n",
       "        text-align: right;\n",
       "    }\n",
       "</style>\n",
       "<table border=\"1\" class=\"dataframe\">\n",
       "  <thead>\n",
       "    <tr style=\"text-align: right;\">\n",
       "      <th></th>\n",
       "      <th>LCLid</th>\n",
       "      <th>Date</th>\n",
       "      <th>KWH</th>\n",
       "    </tr>\n",
       "  </thead>\n",
       "  <tbody>\n",
       "    <tr>\n",
       "      <th>0</th>\n",
       "      <td>MAC000002</td>\n",
       "      <td>2012-10-12</td>\n",
       "      <td>7.098</td>\n",
       "    </tr>\n",
       "    <tr>\n",
       "      <th>1</th>\n",
       "      <td>MAC000002</td>\n",
       "      <td>2012-10-13</td>\n",
       "      <td>11.087</td>\n",
       "    </tr>\n",
       "    <tr>\n",
       "      <th>2</th>\n",
       "      <td>MAC000002</td>\n",
       "      <td>2012-10-14</td>\n",
       "      <td>13.223</td>\n",
       "    </tr>\n",
       "    <tr>\n",
       "      <th>3</th>\n",
       "      <td>MAC000002</td>\n",
       "      <td>2012-10-15</td>\n",
       "      <td>10.257</td>\n",
       "    </tr>\n",
       "    <tr>\n",
       "      <th>4</th>\n",
       "      <td>MAC000002</td>\n",
       "      <td>2012-10-16</td>\n",
       "      <td>9.769</td>\n",
       "    </tr>\n",
       "  </tbody>\n",
       "</table>\n",
       "</div>"
      ],
      "text/plain": [
       "       LCLid       Date     KWH\n",
       "0  MAC000002 2012-10-12   7.098\n",
       "1  MAC000002 2012-10-13  11.087\n",
       "2  MAC000002 2012-10-14  13.223\n",
       "3  MAC000002 2012-10-15  10.257\n",
       "4  MAC000002 2012-10-16   9.769"
      ]
     },
     "execution_count": 10,
     "metadata": {},
     "output_type": "execute_result"
    }
   ],
   "source": [
    "df.head(5)"
   ]
  },
  {
   "cell_type": "code",
   "execution_count": 11,
   "id": "0a8eda0f",
   "metadata": {},
   "outputs": [
    {
     "data": {
      "text/html": [
       "<div>\n",
       "<style scoped>\n",
       "    .dataframe tbody tr th:only-of-type {\n",
       "        vertical-align: middle;\n",
       "    }\n",
       "\n",
       "    .dataframe tbody tr th {\n",
       "        vertical-align: top;\n",
       "    }\n",
       "\n",
       "    .dataframe thead th {\n",
       "        text-align: right;\n",
       "    }\n",
       "</style>\n",
       "<table border=\"1\" class=\"dataframe\">\n",
       "  <thead>\n",
       "    <tr style=\"text-align: right;\">\n",
       "      <th></th>\n",
       "      <th>LCLid</th>\n",
       "      <th>Date</th>\n",
       "      <th>KWH</th>\n",
       "    </tr>\n",
       "  </thead>\n",
       "  <tbody>\n",
       "    <tr>\n",
       "      <th>3510422</th>\n",
       "      <td>MAC005567</td>\n",
       "      <td>2014-02-18</td>\n",
       "      <td>3.718</td>\n",
       "    </tr>\n",
       "    <tr>\n",
       "      <th>3510423</th>\n",
       "      <td>MAC005567</td>\n",
       "      <td>2014-02-19</td>\n",
       "      <td>3.745</td>\n",
       "    </tr>\n",
       "    <tr>\n",
       "      <th>3510424</th>\n",
       "      <td>MAC005567</td>\n",
       "      <td>2014-02-20</td>\n",
       "      <td>4.232</td>\n",
       "    </tr>\n",
       "    <tr>\n",
       "      <th>3510425</th>\n",
       "      <td>MAC005567</td>\n",
       "      <td>2014-02-21</td>\n",
       "      <td>3.580</td>\n",
       "    </tr>\n",
       "    <tr>\n",
       "      <th>3510426</th>\n",
       "      <td>MAC005567</td>\n",
       "      <td>2014-02-22</td>\n",
       "      <td>3.669</td>\n",
       "    </tr>\n",
       "  </tbody>\n",
       "</table>\n",
       "</div>"
      ],
      "text/plain": [
       "             LCLid       Date    KWH\n",
       "3510422  MAC005567 2014-02-18  3.718\n",
       "3510423  MAC005567 2014-02-19  3.745\n",
       "3510424  MAC005567 2014-02-20  4.232\n",
       "3510425  MAC005567 2014-02-21  3.580\n",
       "3510426  MAC005567 2014-02-22  3.669"
      ]
     },
     "execution_count": 11,
     "metadata": {},
     "output_type": "execute_result"
    }
   ],
   "source": [
    "df.tail(5)"
   ]
  },
  {
   "cell_type": "code",
   "execution_count": 12,
   "id": "d70cfc74",
   "metadata": {
    "scrolled": true
   },
   "outputs": [
    {
     "data": {
      "text/plain": [
       "(2724925, 3)"
      ]
     },
     "execution_count": 12,
     "metadata": {},
     "output_type": "execute_result"
    }
   ],
   "source": [
    "df.shape"
   ]
  },
  {
   "cell_type": "code",
   "execution_count": null,
   "id": "c65935c8",
   "metadata": {},
   "outputs": [],
   "source": []
  },
  {
   "cell_type": "code",
   "execution_count": null,
   "id": "15e76e90",
   "metadata": {},
   "outputs": [],
   "source": []
  },
  {
   "cell_type": "markdown",
   "id": "634ee985",
   "metadata": {},
   "source": [
    "#### The leftover data is from 2012-09-28 to 2014-02-22"
   ]
  },
  {
   "cell_type": "code",
   "execution_count": 13,
   "id": "2da6d32f",
   "metadata": {
    "scrolled": true
   },
   "outputs": [
    {
     "data": {
      "text/plain": [
       "5566"
      ]
     },
     "execution_count": 13,
     "metadata": {},
     "output_type": "execute_result"
    }
   ],
   "source": [
    "df['LCLid'].nunique()"
   ]
  },
  {
   "cell_type": "code",
   "execution_count": 14,
   "id": "bde5ec70",
   "metadata": {},
   "outputs": [],
   "source": [
    "df['ID_Number'] = df['LCLid'].str.extract(r'(\\d+)')"
   ]
  },
  {
   "cell_type": "code",
   "execution_count": 15,
   "id": "fe86c66d",
   "metadata": {},
   "outputs": [
    {
     "data": {
      "text/plain": [
       "0          000002\n",
       "1          000002\n",
       "2          000002\n",
       "3          000002\n",
       "4          000002\n",
       "            ...  \n",
       "3510422    005567\n",
       "3510423    005567\n",
       "3510424    005567\n",
       "3510425    005567\n",
       "3510426    005567\n",
       "Name: ID_Number, Length: 2724925, dtype: object"
      ]
     },
     "execution_count": 15,
     "metadata": {},
     "output_type": "execute_result"
    }
   ],
   "source": [
    "df['ID_Number']"
   ]
  },
  {
   "cell_type": "code",
   "execution_count": 16,
   "id": "a9c25f45",
   "metadata": {},
   "outputs": [
    {
     "data": {
      "text/plain": [
       "dtype('O')"
      ]
     },
     "execution_count": 16,
     "metadata": {},
     "output_type": "execute_result"
    }
   ],
   "source": [
    "df['ID_Number'].dtypes"
   ]
  },
  {
   "cell_type": "code",
   "execution_count": 17,
   "id": "0283532b",
   "metadata": {},
   "outputs": [],
   "source": [
    "df['ID_Number'] = df['ID_Number'].astype(int)"
   ]
  },
  {
   "cell_type": "code",
   "execution_count": 18,
   "id": "e1dc889e",
   "metadata": {},
   "outputs": [
    {
     "data": {
      "text/plain": [
       "dtype('int32')"
      ]
     },
     "execution_count": 18,
     "metadata": {},
     "output_type": "execute_result"
    }
   ],
   "source": [
    "df['ID_Number'].dtypes"
   ]
  },
  {
   "cell_type": "code",
   "execution_count": 19,
   "id": "ed7ee9f5",
   "metadata": {},
   "outputs": [
    {
     "data": {
      "text/plain": [
       "0             2\n",
       "1             2\n",
       "2             2\n",
       "3             2\n",
       "4             2\n",
       "           ... \n",
       "3510422    5567\n",
       "3510423    5567\n",
       "3510424    5567\n",
       "3510425    5567\n",
       "3510426    5567\n",
       "Name: ID_Number, Length: 2724925, dtype: int32"
      ]
     },
     "execution_count": 19,
     "metadata": {},
     "output_type": "execute_result"
    }
   ],
   "source": [
    "df['ID_Number']"
   ]
  },
  {
   "cell_type": "code",
   "execution_count": 20,
   "id": "dc9f3302",
   "metadata": {},
   "outputs": [
    {
     "data": {
      "text/html": [
       "<div>\n",
       "<style scoped>\n",
       "    .dataframe tbody tr th:only-of-type {\n",
       "        vertical-align: middle;\n",
       "    }\n",
       "\n",
       "    .dataframe tbody tr th {\n",
       "        vertical-align: top;\n",
       "    }\n",
       "\n",
       "    .dataframe thead th {\n",
       "        text-align: right;\n",
       "    }\n",
       "</style>\n",
       "<table border=\"1\" class=\"dataframe\">\n",
       "  <thead>\n",
       "    <tr style=\"text-align: right;\">\n",
       "      <th></th>\n",
       "      <th>LCLid</th>\n",
       "      <th>Date</th>\n",
       "      <th>KWH</th>\n",
       "      <th>ID_Number</th>\n",
       "    </tr>\n",
       "  </thead>\n",
       "  <tbody>\n",
       "    <tr>\n",
       "      <th>0</th>\n",
       "      <td>MAC000002</td>\n",
       "      <td>2012-10-12</td>\n",
       "      <td>7.098</td>\n",
       "      <td>2</td>\n",
       "    </tr>\n",
       "    <tr>\n",
       "      <th>1</th>\n",
       "      <td>MAC000002</td>\n",
       "      <td>2012-10-13</td>\n",
       "      <td>11.087</td>\n",
       "      <td>2</td>\n",
       "    </tr>\n",
       "    <tr>\n",
       "      <th>2</th>\n",
       "      <td>MAC000002</td>\n",
       "      <td>2012-10-14</td>\n",
       "      <td>13.223</td>\n",
       "      <td>2</td>\n",
       "    </tr>\n",
       "    <tr>\n",
       "      <th>3</th>\n",
       "      <td>MAC000002</td>\n",
       "      <td>2012-10-15</td>\n",
       "      <td>10.257</td>\n",
       "      <td>2</td>\n",
       "    </tr>\n",
       "    <tr>\n",
       "      <th>4</th>\n",
       "      <td>MAC000002</td>\n",
       "      <td>2012-10-16</td>\n",
       "      <td>9.769</td>\n",
       "      <td>2</td>\n",
       "    </tr>\n",
       "  </tbody>\n",
       "</table>\n",
       "</div>"
      ],
      "text/plain": [
       "       LCLid       Date     KWH  ID_Number\n",
       "0  MAC000002 2012-10-12   7.098          2\n",
       "1  MAC000002 2012-10-13  11.087          2\n",
       "2  MAC000002 2012-10-14  13.223          2\n",
       "3  MAC000002 2012-10-15  10.257          2\n",
       "4  MAC000002 2012-10-16   9.769          2"
      ]
     },
     "execution_count": 20,
     "metadata": {},
     "output_type": "execute_result"
    }
   ],
   "source": [
    "df.head(5)"
   ]
  },
  {
   "cell_type": "code",
   "execution_count": 21,
   "id": "fc3a06d5",
   "metadata": {},
   "outputs": [
    {
     "data": {
      "text/html": [
       "<div>\n",
       "<style scoped>\n",
       "    .dataframe tbody tr th:only-of-type {\n",
       "        vertical-align: middle;\n",
       "    }\n",
       "\n",
       "    .dataframe tbody tr th {\n",
       "        vertical-align: top;\n",
       "    }\n",
       "\n",
       "    .dataframe thead th {\n",
       "        text-align: right;\n",
       "    }\n",
       "</style>\n",
       "<table border=\"1\" class=\"dataframe\">\n",
       "  <thead>\n",
       "    <tr style=\"text-align: right;\">\n",
       "      <th></th>\n",
       "      <th>LCLid</th>\n",
       "      <th>Date</th>\n",
       "      <th>KWH</th>\n",
       "      <th>ID_Number</th>\n",
       "    </tr>\n",
       "  </thead>\n",
       "  <tbody>\n",
       "    <tr>\n",
       "      <th>3510422</th>\n",
       "      <td>MAC005567</td>\n",
       "      <td>2014-02-18</td>\n",
       "      <td>3.718</td>\n",
       "      <td>5567</td>\n",
       "    </tr>\n",
       "    <tr>\n",
       "      <th>3510423</th>\n",
       "      <td>MAC005567</td>\n",
       "      <td>2014-02-19</td>\n",
       "      <td>3.745</td>\n",
       "      <td>5567</td>\n",
       "    </tr>\n",
       "    <tr>\n",
       "      <th>3510424</th>\n",
       "      <td>MAC005567</td>\n",
       "      <td>2014-02-20</td>\n",
       "      <td>4.232</td>\n",
       "      <td>5567</td>\n",
       "    </tr>\n",
       "    <tr>\n",
       "      <th>3510425</th>\n",
       "      <td>MAC005567</td>\n",
       "      <td>2014-02-21</td>\n",
       "      <td>3.580</td>\n",
       "      <td>5567</td>\n",
       "    </tr>\n",
       "    <tr>\n",
       "      <th>3510426</th>\n",
       "      <td>MAC005567</td>\n",
       "      <td>2014-02-22</td>\n",
       "      <td>3.669</td>\n",
       "      <td>5567</td>\n",
       "    </tr>\n",
       "  </tbody>\n",
       "</table>\n",
       "</div>"
      ],
      "text/plain": [
       "             LCLid       Date    KWH  ID_Number\n",
       "3510422  MAC005567 2014-02-18  3.718       5567\n",
       "3510423  MAC005567 2014-02-19  3.745       5567\n",
       "3510424  MAC005567 2014-02-20  4.232       5567\n",
       "3510425  MAC005567 2014-02-21  3.580       5567\n",
       "3510426  MAC005567 2014-02-22  3.669       5567"
      ]
     },
     "execution_count": 21,
     "metadata": {},
     "output_type": "execute_result"
    }
   ],
   "source": [
    "df.tail(5)"
   ]
  },
  {
   "cell_type": "code",
   "execution_count": null,
   "id": "39ceee40",
   "metadata": {},
   "outputs": [],
   "source": []
  },
  {
   "cell_type": "markdown",
   "id": "94641bef",
   "metadata": {},
   "source": [
    "#### 分组"
   ]
  },
  {
   "cell_type": "code",
   "execution_count": 22,
   "id": "ec2da2be",
   "metadata": {},
   "outputs": [],
   "source": [
    "df['group'] = (df['ID_Number']//100)+1"
   ]
  },
  {
   "cell_type": "code",
   "execution_count": null,
   "id": "1acfd42d",
   "metadata": {},
   "outputs": [],
   "source": []
  },
  {
   "cell_type": "code",
   "execution_count": 23,
   "id": "1edfbc2c",
   "metadata": {},
   "outputs": [
    {
     "data": {
      "text/html": [
       "<div>\n",
       "<style scoped>\n",
       "    .dataframe tbody tr th:only-of-type {\n",
       "        vertical-align: middle;\n",
       "    }\n",
       "\n",
       "    .dataframe tbody tr th {\n",
       "        vertical-align: top;\n",
       "    }\n",
       "\n",
       "    .dataframe thead th {\n",
       "        text-align: right;\n",
       "    }\n",
       "</style>\n",
       "<table border=\"1\" class=\"dataframe\">\n",
       "  <thead>\n",
       "    <tr style=\"text-align: right;\">\n",
       "      <th></th>\n",
       "      <th>LCLid</th>\n",
       "      <th>Date</th>\n",
       "      <th>KWH</th>\n",
       "      <th>ID_Number</th>\n",
       "      <th>group</th>\n",
       "    </tr>\n",
       "  </thead>\n",
       "  <tbody>\n",
       "    <tr>\n",
       "      <th>0</th>\n",
       "      <td>MAC000002</td>\n",
       "      <td>2012-10-12</td>\n",
       "      <td>7.098</td>\n",
       "      <td>2</td>\n",
       "      <td>1</td>\n",
       "    </tr>\n",
       "    <tr>\n",
       "      <th>1</th>\n",
       "      <td>MAC000002</td>\n",
       "      <td>2012-10-13</td>\n",
       "      <td>11.087</td>\n",
       "      <td>2</td>\n",
       "      <td>1</td>\n",
       "    </tr>\n",
       "    <tr>\n",
       "      <th>2</th>\n",
       "      <td>MAC000002</td>\n",
       "      <td>2012-10-14</td>\n",
       "      <td>13.223</td>\n",
       "      <td>2</td>\n",
       "      <td>1</td>\n",
       "    </tr>\n",
       "    <tr>\n",
       "      <th>3</th>\n",
       "      <td>MAC000002</td>\n",
       "      <td>2012-10-15</td>\n",
       "      <td>10.257</td>\n",
       "      <td>2</td>\n",
       "      <td>1</td>\n",
       "    </tr>\n",
       "    <tr>\n",
       "      <th>4</th>\n",
       "      <td>MAC000002</td>\n",
       "      <td>2012-10-16</td>\n",
       "      <td>9.769</td>\n",
       "      <td>2</td>\n",
       "      <td>1</td>\n",
       "    </tr>\n",
       "  </tbody>\n",
       "</table>\n",
       "</div>"
      ],
      "text/plain": [
       "       LCLid       Date     KWH  ID_Number  group\n",
       "0  MAC000002 2012-10-12   7.098          2      1\n",
       "1  MAC000002 2012-10-13  11.087          2      1\n",
       "2  MAC000002 2012-10-14  13.223          2      1\n",
       "3  MAC000002 2012-10-15  10.257          2      1\n",
       "4  MAC000002 2012-10-16   9.769          2      1"
      ]
     },
     "execution_count": 23,
     "metadata": {},
     "output_type": "execute_result"
    }
   ],
   "source": [
    "df.head(5)"
   ]
  },
  {
   "cell_type": "code",
   "execution_count": 24,
   "id": "bddccfff",
   "metadata": {},
   "outputs": [
    {
     "data": {
      "text/html": [
       "<div>\n",
       "<style scoped>\n",
       "    .dataframe tbody tr th:only-of-type {\n",
       "        vertical-align: middle;\n",
       "    }\n",
       "\n",
       "    .dataframe tbody tr th {\n",
       "        vertical-align: top;\n",
       "    }\n",
       "\n",
       "    .dataframe thead th {\n",
       "        text-align: right;\n",
       "    }\n",
       "</style>\n",
       "<table border=\"1\" class=\"dataframe\">\n",
       "  <thead>\n",
       "    <tr style=\"text-align: right;\">\n",
       "      <th></th>\n",
       "      <th>LCLid</th>\n",
       "      <th>Date</th>\n",
       "      <th>KWH</th>\n",
       "      <th>ID_Number</th>\n",
       "      <th>group</th>\n",
       "    </tr>\n",
       "  </thead>\n",
       "  <tbody>\n",
       "    <tr>\n",
       "      <th>3510422</th>\n",
       "      <td>MAC005567</td>\n",
       "      <td>2014-02-18</td>\n",
       "      <td>3.718</td>\n",
       "      <td>5567</td>\n",
       "      <td>56</td>\n",
       "    </tr>\n",
       "    <tr>\n",
       "      <th>3510423</th>\n",
       "      <td>MAC005567</td>\n",
       "      <td>2014-02-19</td>\n",
       "      <td>3.745</td>\n",
       "      <td>5567</td>\n",
       "      <td>56</td>\n",
       "    </tr>\n",
       "    <tr>\n",
       "      <th>3510424</th>\n",
       "      <td>MAC005567</td>\n",
       "      <td>2014-02-20</td>\n",
       "      <td>4.232</td>\n",
       "      <td>5567</td>\n",
       "      <td>56</td>\n",
       "    </tr>\n",
       "    <tr>\n",
       "      <th>3510425</th>\n",
       "      <td>MAC005567</td>\n",
       "      <td>2014-02-21</td>\n",
       "      <td>3.580</td>\n",
       "      <td>5567</td>\n",
       "      <td>56</td>\n",
       "    </tr>\n",
       "    <tr>\n",
       "      <th>3510426</th>\n",
       "      <td>MAC005567</td>\n",
       "      <td>2014-02-22</td>\n",
       "      <td>3.669</td>\n",
       "      <td>5567</td>\n",
       "      <td>56</td>\n",
       "    </tr>\n",
       "  </tbody>\n",
       "</table>\n",
       "</div>"
      ],
      "text/plain": [
       "             LCLid       Date    KWH  ID_Number  group\n",
       "3510422  MAC005567 2014-02-18  3.718       5567     56\n",
       "3510423  MAC005567 2014-02-19  3.745       5567     56\n",
       "3510424  MAC005567 2014-02-20  4.232       5567     56\n",
       "3510425  MAC005567 2014-02-21  3.580       5567     56\n",
       "3510426  MAC005567 2014-02-22  3.669       5567     56"
      ]
     },
     "execution_count": 24,
     "metadata": {},
     "output_type": "execute_result"
    }
   ],
   "source": [
    "df.tail(5)"
   ]
  },
  {
   "cell_type": "code",
   "execution_count": null,
   "id": "b33a45d8",
   "metadata": {},
   "outputs": [],
   "source": []
  },
  {
   "cell_type": "markdown",
   "id": "d9e2aac9",
   "metadata": {},
   "source": [
    "#### 删掉第56组"
   ]
  },
  {
   "cell_type": "code",
   "execution_count": 25,
   "id": "5c4722c0",
   "metadata": {},
   "outputs": [],
   "source": [
    "df = df[df['group'] != 56]"
   ]
  },
  {
   "cell_type": "code",
   "execution_count": null,
   "id": "7b3ee047",
   "metadata": {},
   "outputs": [],
   "source": []
  },
  {
   "cell_type": "markdown",
   "id": "ce02d3d1",
   "metadata": {},
   "source": [
    "#### 删掉不需要的ID_Number"
   ]
  },
  {
   "cell_type": "code",
   "execution_count": 26,
   "id": "2c1c6874",
   "metadata": {},
   "outputs": [],
   "source": [
    "del df['ID_Number']"
   ]
  },
  {
   "cell_type": "code",
   "execution_count": 27,
   "id": "0a01abcc",
   "metadata": {},
   "outputs": [
    {
     "data": {
      "text/html": [
       "<div>\n",
       "<style scoped>\n",
       "    .dataframe tbody tr th:only-of-type {\n",
       "        vertical-align: middle;\n",
       "    }\n",
       "\n",
       "    .dataframe tbody tr th {\n",
       "        vertical-align: top;\n",
       "    }\n",
       "\n",
       "    .dataframe thead th {\n",
       "        text-align: right;\n",
       "    }\n",
       "</style>\n",
       "<table border=\"1\" class=\"dataframe\">\n",
       "  <thead>\n",
       "    <tr style=\"text-align: right;\">\n",
       "      <th></th>\n",
       "      <th>LCLid</th>\n",
       "      <th>Date</th>\n",
       "      <th>KWH</th>\n",
       "      <th>group</th>\n",
       "    </tr>\n",
       "  </thead>\n",
       "  <tbody>\n",
       "    <tr>\n",
       "      <th>0</th>\n",
       "      <td>MAC000002</td>\n",
       "      <td>2012-10-12</td>\n",
       "      <td>7.098</td>\n",
       "      <td>1</td>\n",
       "    </tr>\n",
       "    <tr>\n",
       "      <th>1</th>\n",
       "      <td>MAC000002</td>\n",
       "      <td>2012-10-13</td>\n",
       "      <td>11.087</td>\n",
       "      <td>1</td>\n",
       "    </tr>\n",
       "    <tr>\n",
       "      <th>2</th>\n",
       "      <td>MAC000002</td>\n",
       "      <td>2012-10-14</td>\n",
       "      <td>13.223</td>\n",
       "      <td>1</td>\n",
       "    </tr>\n",
       "    <tr>\n",
       "      <th>3</th>\n",
       "      <td>MAC000002</td>\n",
       "      <td>2012-10-15</td>\n",
       "      <td>10.257</td>\n",
       "      <td>1</td>\n",
       "    </tr>\n",
       "    <tr>\n",
       "      <th>4</th>\n",
       "      <td>MAC000002</td>\n",
       "      <td>2012-10-16</td>\n",
       "      <td>9.769</td>\n",
       "      <td>1</td>\n",
       "    </tr>\n",
       "    <tr>\n",
       "      <th>5</th>\n",
       "      <td>MAC000002</td>\n",
       "      <td>2012-10-17</td>\n",
       "      <td>10.885</td>\n",
       "      <td>1</td>\n",
       "    </tr>\n",
       "    <tr>\n",
       "      <th>6</th>\n",
       "      <td>MAC000002</td>\n",
       "      <td>2012-10-18</td>\n",
       "      <td>10.751</td>\n",
       "      <td>1</td>\n",
       "    </tr>\n",
       "    <tr>\n",
       "      <th>7</th>\n",
       "      <td>MAC000002</td>\n",
       "      <td>2012-10-19</td>\n",
       "      <td>8.431</td>\n",
       "      <td>1</td>\n",
       "    </tr>\n",
       "    <tr>\n",
       "      <th>8</th>\n",
       "      <td>MAC000002</td>\n",
       "      <td>2012-10-20</td>\n",
       "      <td>17.578</td>\n",
       "      <td>1</td>\n",
       "    </tr>\n",
       "    <tr>\n",
       "      <th>9</th>\n",
       "      <td>MAC000002</td>\n",
       "      <td>2012-10-21</td>\n",
       "      <td>24.490</td>\n",
       "      <td>1</td>\n",
       "    </tr>\n",
       "  </tbody>\n",
       "</table>\n",
       "</div>"
      ],
      "text/plain": [
       "       LCLid       Date     KWH  group\n",
       "0  MAC000002 2012-10-12   7.098      1\n",
       "1  MAC000002 2012-10-13  11.087      1\n",
       "2  MAC000002 2012-10-14  13.223      1\n",
       "3  MAC000002 2012-10-15  10.257      1\n",
       "4  MAC000002 2012-10-16   9.769      1\n",
       "5  MAC000002 2012-10-17  10.885      1\n",
       "6  MAC000002 2012-10-18  10.751      1\n",
       "7  MAC000002 2012-10-19   8.431      1\n",
       "8  MAC000002 2012-10-20  17.578      1\n",
       "9  MAC000002 2012-10-21  24.490      1"
      ]
     },
     "execution_count": 27,
     "metadata": {},
     "output_type": "execute_result"
    }
   ],
   "source": [
    "df.head(10)"
   ]
  },
  {
   "cell_type": "code",
   "execution_count": 28,
   "id": "1d3f7b9d",
   "metadata": {},
   "outputs": [
    {
     "data": {
      "text/html": [
       "<div>\n",
       "<style scoped>\n",
       "    .dataframe tbody tr th:only-of-type {\n",
       "        vertical-align: middle;\n",
       "    }\n",
       "\n",
       "    .dataframe tbody tr th {\n",
       "        vertical-align: top;\n",
       "    }\n",
       "\n",
       "    .dataframe thead th {\n",
       "        text-align: right;\n",
       "    }\n",
       "</style>\n",
       "<table border=\"1\" class=\"dataframe\">\n",
       "  <thead>\n",
       "    <tr style=\"text-align: right;\">\n",
       "      <th></th>\n",
       "      <th>LCLid</th>\n",
       "      <th>Date</th>\n",
       "      <th>KWH</th>\n",
       "      <th>group</th>\n",
       "    </tr>\n",
       "  </thead>\n",
       "  <tbody>\n",
       "    <tr>\n",
       "      <th>3469650</th>\n",
       "      <td>MAC005499</td>\n",
       "      <td>2014-02-13</td>\n",
       "      <td>11.207</td>\n",
       "      <td>55</td>\n",
       "    </tr>\n",
       "    <tr>\n",
       "      <th>3469651</th>\n",
       "      <td>MAC005499</td>\n",
       "      <td>2014-02-14</td>\n",
       "      <td>8.908</td>\n",
       "      <td>55</td>\n",
       "    </tr>\n",
       "    <tr>\n",
       "      <th>3469652</th>\n",
       "      <td>MAC005499</td>\n",
       "      <td>2014-02-15</td>\n",
       "      <td>9.169</td>\n",
       "      <td>55</td>\n",
       "    </tr>\n",
       "    <tr>\n",
       "      <th>3469653</th>\n",
       "      <td>MAC005499</td>\n",
       "      <td>2014-02-16</td>\n",
       "      <td>11.510</td>\n",
       "      <td>55</td>\n",
       "    </tr>\n",
       "    <tr>\n",
       "      <th>3469654</th>\n",
       "      <td>MAC005499</td>\n",
       "      <td>2014-02-17</td>\n",
       "      <td>7.858</td>\n",
       "      <td>55</td>\n",
       "    </tr>\n",
       "    <tr>\n",
       "      <th>3469655</th>\n",
       "      <td>MAC005499</td>\n",
       "      <td>2014-02-18</td>\n",
       "      <td>7.507</td>\n",
       "      <td>55</td>\n",
       "    </tr>\n",
       "    <tr>\n",
       "      <th>3469656</th>\n",
       "      <td>MAC005499</td>\n",
       "      <td>2014-02-19</td>\n",
       "      <td>9.291</td>\n",
       "      <td>55</td>\n",
       "    </tr>\n",
       "    <tr>\n",
       "      <th>3469657</th>\n",
       "      <td>MAC005499</td>\n",
       "      <td>2014-02-20</td>\n",
       "      <td>10.029</td>\n",
       "      <td>55</td>\n",
       "    </tr>\n",
       "    <tr>\n",
       "      <th>3469658</th>\n",
       "      <td>MAC005499</td>\n",
       "      <td>2014-02-21</td>\n",
       "      <td>13.303</td>\n",
       "      <td>55</td>\n",
       "    </tr>\n",
       "    <tr>\n",
       "      <th>3469659</th>\n",
       "      <td>MAC005499</td>\n",
       "      <td>2014-02-22</td>\n",
       "      <td>9.622</td>\n",
       "      <td>55</td>\n",
       "    </tr>\n",
       "  </tbody>\n",
       "</table>\n",
       "</div>"
      ],
      "text/plain": [
       "             LCLid       Date     KWH  group\n",
       "3469650  MAC005499 2014-02-13  11.207     55\n",
       "3469651  MAC005499 2014-02-14   8.908     55\n",
       "3469652  MAC005499 2014-02-15   9.169     55\n",
       "3469653  MAC005499 2014-02-16  11.510     55\n",
       "3469654  MAC005499 2014-02-17   7.858     55\n",
       "3469655  MAC005499 2014-02-18   7.507     55\n",
       "3469656  MAC005499 2014-02-19   9.291     55\n",
       "3469657  MAC005499 2014-02-20  10.029     55\n",
       "3469658  MAC005499 2014-02-21  13.303     55\n",
       "3469659  MAC005499 2014-02-22   9.622     55"
      ]
     },
     "execution_count": 28,
     "metadata": {},
     "output_type": "execute_result"
    }
   ],
   "source": [
    "df.tail(10)"
   ]
  },
  {
   "cell_type": "code",
   "execution_count": 29,
   "id": "d8ff3747",
   "metadata": {},
   "outputs": [
    {
     "data": {
      "text/plain": [
       "(2693838, 4)"
      ]
     },
     "execution_count": 29,
     "metadata": {},
     "output_type": "execute_result"
    }
   ],
   "source": [
    "df.shape\n",
    "# now we have 2693838"
   ]
  },
  {
   "cell_type": "code",
   "execution_count": null,
   "id": "94d35a46",
   "metadata": {},
   "outputs": [],
   "source": []
  },
  {
   "cell_type": "code",
   "execution_count": null,
   "id": "f6073926",
   "metadata": {},
   "outputs": [],
   "source": []
  },
  {
   "cell_type": "markdown",
   "id": "8307af53",
   "metadata": {},
   "source": [
    "#### 合并每一组 这样就变成了 某组在某天的能源消耗"
   ]
  },
  {
   "cell_type": "code",
   "execution_count": 30,
   "id": "fefd22be",
   "metadata": {},
   "outputs": [],
   "source": [
    "grouped_df = df.groupby(['group', 'Date'])['KWH'].sum().reset_index()"
   ]
  },
  {
   "cell_type": "code",
   "execution_count": 31,
   "id": "7f88de8a",
   "metadata": {
    "scrolled": true
   },
   "outputs": [
    {
     "name": "stdout",
     "output_type": "stream",
     "text": [
      "       group       Date       KWH\n",
      "0          1 2012-09-28   920.374\n",
      "1          1 2012-09-29   946.774\n",
      "2          1 2012-09-30   997.614\n",
      "3          1 2012-10-01   932.968\n",
      "4          1 2012-10-02   923.616\n",
      "...      ...        ...       ...\n",
      "28148     55 2014-02-18  1008.297\n",
      "28149     55 2014-02-19  1009.979\n",
      "28150     55 2014-02-20  1014.618\n",
      "28151     55 2014-02-21   955.054\n",
      "28152     55 2014-02-22  1021.862\n",
      "\n",
      "[28153 rows x 3 columns]\n"
     ]
    }
   ],
   "source": [
    "print(grouped_df)"
   ]
  },
  {
   "cell_type": "code",
   "execution_count": null,
   "id": "e836c0e0",
   "metadata": {},
   "outputs": [],
   "source": []
  },
  {
   "cell_type": "code",
   "execution_count": null,
   "id": "6d2a47f1",
   "metadata": {},
   "outputs": [],
   "source": []
  },
  {
   "cell_type": "code",
   "execution_count": 32,
   "id": "27fabe41",
   "metadata": {},
   "outputs": [],
   "source": [
    "# 将Date列转换为日期时间格式\n",
    "grouped_df['Date'] = pd.to_datetime(grouped_df['Date'])\n",
    "\n",
    "grouped_df['Next_3_Days_Energy_Total'] = grouped_df.groupby('group')['KWH'].rolling(window=3, min_periods=1).mean().reset_index(level=0, drop=True)\n",
    "\n",
    "# 移动未来三天能耗总量的数据，使其对应未来三天\n",
    "grouped_df['Next_3_Days_Energy_Total'] = grouped_df.groupby('group')['Next_3_Days_Energy_Total'].shift(-15)\n"
   ]
  },
  {
   "cell_type": "code",
   "execution_count": 33,
   "id": "c12024f5",
   "metadata": {},
   "outputs": [
    {
     "data": {
      "text/html": [
       "<div>\n",
       "<style scoped>\n",
       "    .dataframe tbody tr th:only-of-type {\n",
       "        vertical-align: middle;\n",
       "    }\n",
       "\n",
       "    .dataframe tbody tr th {\n",
       "        vertical-align: top;\n",
       "    }\n",
       "\n",
       "    .dataframe thead th {\n",
       "        text-align: right;\n",
       "    }\n",
       "</style>\n",
       "<table border=\"1\" class=\"dataframe\">\n",
       "  <thead>\n",
       "    <tr style=\"text-align: right;\">\n",
       "      <th></th>\n",
       "      <th>group</th>\n",
       "      <th>Date</th>\n",
       "      <th>KWH</th>\n",
       "      <th>Next_3_Days_Energy_Total</th>\n",
       "    </tr>\n",
       "  </thead>\n",
       "  <tbody>\n",
       "    <tr>\n",
       "      <th>0</th>\n",
       "      <td>1</td>\n",
       "      <td>2012-09-28</td>\n",
       "      <td>920.374</td>\n",
       "      <td>1031.111000</td>\n",
       "    </tr>\n",
       "    <tr>\n",
       "      <th>1</th>\n",
       "      <td>1</td>\n",
       "      <td>2012-09-29</td>\n",
       "      <td>946.774</td>\n",
       "      <td>1045.833000</td>\n",
       "    </tr>\n",
       "    <tr>\n",
       "      <th>2</th>\n",
       "      <td>1</td>\n",
       "      <td>2012-09-30</td>\n",
       "      <td>997.614</td>\n",
       "      <td>1059.146667</td>\n",
       "    </tr>\n",
       "    <tr>\n",
       "      <th>3</th>\n",
       "      <td>1</td>\n",
       "      <td>2012-10-01</td>\n",
       "      <td>932.968</td>\n",
       "      <td>1051.590333</td>\n",
       "    </tr>\n",
       "    <tr>\n",
       "      <th>4</th>\n",
       "      <td>1</td>\n",
       "      <td>2012-10-02</td>\n",
       "      <td>923.616</td>\n",
       "      <td>1039.082667</td>\n",
       "    </tr>\n",
       "    <tr>\n",
       "      <th>...</th>\n",
       "      <td>...</td>\n",
       "      <td>...</td>\n",
       "      <td>...</td>\n",
       "      <td>...</td>\n",
       "    </tr>\n",
       "    <tr>\n",
       "      <th>28148</th>\n",
       "      <td>55</td>\n",
       "      <td>2014-02-18</td>\n",
       "      <td>1008.297</td>\n",
       "      <td>NaN</td>\n",
       "    </tr>\n",
       "    <tr>\n",
       "      <th>28149</th>\n",
       "      <td>55</td>\n",
       "      <td>2014-02-19</td>\n",
       "      <td>1009.979</td>\n",
       "      <td>NaN</td>\n",
       "    </tr>\n",
       "    <tr>\n",
       "      <th>28150</th>\n",
       "      <td>55</td>\n",
       "      <td>2014-02-20</td>\n",
       "      <td>1014.618</td>\n",
       "      <td>NaN</td>\n",
       "    </tr>\n",
       "    <tr>\n",
       "      <th>28151</th>\n",
       "      <td>55</td>\n",
       "      <td>2014-02-21</td>\n",
       "      <td>955.054</td>\n",
       "      <td>NaN</td>\n",
       "    </tr>\n",
       "    <tr>\n",
       "      <th>28152</th>\n",
       "      <td>55</td>\n",
       "      <td>2014-02-22</td>\n",
       "      <td>1021.862</td>\n",
       "      <td>NaN</td>\n",
       "    </tr>\n",
       "  </tbody>\n",
       "</table>\n",
       "<p>28153 rows × 4 columns</p>\n",
       "</div>"
      ],
      "text/plain": [
       "       group       Date       KWH  Next_3_Days_Energy_Total\n",
       "0          1 2012-09-28   920.374               1031.111000\n",
       "1          1 2012-09-29   946.774               1045.833000\n",
       "2          1 2012-09-30   997.614               1059.146667\n",
       "3          1 2012-10-01   932.968               1051.590333\n",
       "4          1 2012-10-02   923.616               1039.082667\n",
       "...      ...        ...       ...                       ...\n",
       "28148     55 2014-02-18  1008.297                       NaN\n",
       "28149     55 2014-02-19  1009.979                       NaN\n",
       "28150     55 2014-02-20  1014.618                       NaN\n",
       "28151     55 2014-02-21   955.054                       NaN\n",
       "28152     55 2014-02-22  1021.862                       NaN\n",
       "\n",
       "[28153 rows x 4 columns]"
      ]
     },
     "execution_count": 33,
     "metadata": {},
     "output_type": "execute_result"
    }
   ],
   "source": [
    "grouped_df"
   ]
  },
  {
   "cell_type": "code",
   "execution_count": 34,
   "id": "e94e5d12",
   "metadata": {},
   "outputs": [
    {
     "name": "stdout",
     "output_type": "stream",
     "text": [
      "group                         0\n",
      "Date                          0\n",
      "KWH                           0\n",
      "Next_3_Days_Energy_Total    825\n",
      "dtype: int64\n"
     ]
    }
   ],
   "source": [
    "# 统计每列中的NaN数量\n",
    "nan_counts = grouped_df.isna().sum()\n",
    "\n",
    "print(nan_counts)"
   ]
  },
  {
   "cell_type": "code",
   "execution_count": 35,
   "id": "a265a19c",
   "metadata": {},
   "outputs": [],
   "source": [
    "df_clean = grouped_df.dropna()"
   ]
  },
  {
   "cell_type": "code",
   "execution_count": 36,
   "id": "b7f098e7",
   "metadata": {
    "scrolled": true
   },
   "outputs": [
    {
     "name": "stdout",
     "output_type": "stream",
     "text": [
      "       group       Date       KWH  Next_3_Days_Energy_Total\n",
      "0          1 2012-09-28   920.374               1031.111000\n",
      "1          1 2012-09-29   946.774               1045.833000\n",
      "2          1 2012-09-30   997.614               1059.146667\n",
      "3          1 2012-10-01   932.968               1051.590333\n",
      "4          1 2012-10-02   923.616               1039.082667\n",
      "...      ...        ...       ...                       ...\n",
      "28133     55 2014-02-03  1089.332               1070.176000\n",
      "28134     55 2014-02-04  1061.265               1018.218000\n",
      "28135     55 2014-02-05  1106.654               1010.964667\n",
      "28136     55 2014-02-06  1119.021                993.217000\n",
      "28137     55 2014-02-07  1107.229                997.178000\n",
      "\n",
      "[27328 rows x 4 columns]\n"
     ]
    }
   ],
   "source": [
    "print(df_clean)"
   ]
  },
  {
   "cell_type": "code",
   "execution_count": null,
   "id": "3fb791ce",
   "metadata": {},
   "outputs": [],
   "source": []
  },
  {
   "cell_type": "code",
   "execution_count": 37,
   "id": "277df5f3",
   "metadata": {
    "scrolled": false
   },
   "outputs": [
    {
     "name": "stderr",
     "output_type": "stream",
     "text": [
      "C:\\Users\\Administrator\\AppData\\Local\\Temp\\ipykernel_1140\\2110837324.py:7: SettingWithCopyWarning: \n",
      "A value is trying to be set on a copy of a slice from a DataFrame.\n",
      "Try using .loc[row_indexer,col_indexer] = value instead\n",
      "\n",
      "See the caveats in the documentation: https://pandas.pydata.org/pandas-docs/stable/user_guide/indexing.html#returning-a-view-versus-a-copy\n",
      "  df_clean['Date'] = pd.to_datetime(df_clean['Date'])\n"
     ]
    },
    {
     "data": {
      "image/png": "[encoded data removed]",
      "text/plain": [
       "<Figure size 720x432 with 1 Axes>"
      ]
     },
     "metadata": {
      "needs_background": "light"
     },
     "output_type": "display_data"
    }
   ],
   "source": [
    "import pandas as pd\n",
    "import matplotlib.pyplot as plt\n",
    "\n",
    "# 假设你的DataFrame名为df\n",
    "\n",
    "# 将Date列转换为日期时间格式\n",
    "df_clean['Date'] = pd.to_datetime(df_clean['Date'])\n",
    "\n",
    "df_group1 = df_clean[df_clean['group'] == 1]\n",
    "\n",
    "# 创建一个折线图\n",
    "plt.figure(figsize=(10, 6))  # 设置图形大小（可选）\n",
    "\n",
    "# 绘制折线图\n",
    "plt.plot(df_group1['Date'], df_group1['KWH'], marker='o', linestyle='-', color='b')\n",
    "\n",
    "# 添加标题和标签\n",
    "plt.title('KWH Over Time')\n",
    "plt.xlabel('Date')\n",
    "plt.ylabel('KWH')\n",
    "\n",
    "# 格式化日期显示\n",
    "plt.xticks(rotation=45)\n",
    "\n",
    "# 显示图形\n",
    "plt.tight_layout()  # 自动调整布局\n",
    "plt.show()\n"
   ]
  },
  {
   "cell_type": "code",
   "execution_count": null,
   "id": "6613bbe2",
   "metadata": {},
   "outputs": [],
   "source": []
  },
  {
   "cell_type": "markdown",
   "id": "a149ec30",
   "metadata": {},
   "source": [
    "#### remove the outlier "
   ]
  },
  {
   "cell_type": "code",
   "execution_count": 38,
   "id": "f82f2c11",
   "metadata": {},
   "outputs": [],
   "source": [
    "def remove_outliers(df, col_name, method='iqr', k = 0):\n",
    "    \n",
    "    q1 = df[col_name].quantile(0.25)\n",
    "    q3 = df[col_name].quantile(0.75)\n",
    "    iqr = q3 - q1\n",
    "    upper_threshold = q3 + k*iqr\n",
    "    lower_threshold = q1 - k*iqr\n",
    "    outliers = (df[col_name] > upper_threshold) | (df[col_name] < lower_threshold)\n",
    "    \n",
    "    df.loc[outliers, col_name] = None  # Set outlier values to None or NaN\n",
    "    return df"
   ]
  },
  {
   "cell_type": "code",
   "execution_count": 39,
   "id": "651c9f9e",
   "metadata": {},
   "outputs": [],
   "source": [
    "col = ['KWH']\n",
    "\n",
    "for col in df_clean[col]:\n",
    "    df = remove_outliers(df_clean, col, method='iqr', k=1.5)"
   ]
  },
  {
   "cell_type": "code",
   "execution_count": 40,
   "id": "ef801953",
   "metadata": {},
   "outputs": [
    {
     "data": {
      "text/plain": [
       "(27328, 4)"
      ]
     },
     "execution_count": 40,
     "metadata": {},
     "output_type": "execute_result"
    }
   ],
   "source": [
    "df.shape"
   ]
  },
  {
   "cell_type": "code",
   "execution_count": null,
   "id": "fcac054d",
   "metadata": {},
   "outputs": [],
   "source": []
  },
  {
   "cell_type": "code",
   "execution_count": 41,
   "id": "84020f59",
   "metadata": {},
   "outputs": [],
   "source": [
    "df.to_csv('D:/One Drive/OneDrive - University of Bristol/Bristol Data Science/Project/Data/Weather/cleaned_data_energy(15days).csv', index=False)"
   ]
  }
 ],
 "metadata": {
  "hide_input": false,
  "kernelspec": {
   "display_name": "Python 3 (ipykernel)",
   "language": "python",
   "name": "python3"
  },
  "language_info": {
   "codemirror_mode": {
    "name": "ipython",
    "version": 3
   },
   "file_extension": ".py",
   "mimetype": "text/x-python",
   "name": "python",
   "nbconvert_exporter": "python",
   "pygments_lexer": "ipython3",
   "version": "3.9.12"
  },
  "varInspector": {
   "cols": {
    "lenName": 16,
    "lenType": 16,
    "lenVar": 40
   },
   "kernels_config": {
    "python": {
     "delete_cmd_postfix": "",
     "delete_cmd_prefix": "del ",
     "library": "var_list.py",
     "varRefreshCmd": "print(var_dic_list())"
    },
    "r": {
     "delete_cmd_postfix": ") ",
     "delete_cmd_prefix": "rm(",
     "library": "var_list.r",
     "varRefreshCmd": "cat(var_dic_list()) "
    }
   },
   "types_to_exclude": [
    "module",
    "function",
    "builtin_function_or_method",
    "instance",
    "_Feature"
   ],
   "window_display": false
  }
 },
 "nbformat": 4,
 "nbformat_minor": 5
}
