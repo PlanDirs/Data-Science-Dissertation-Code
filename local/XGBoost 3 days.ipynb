{
 "cells": [
  {
   "cell_type": "code",
   "execution_count": 241,
   "id": "e94eae89",
   "metadata": {},
   "outputs": [],
   "source": [
    "import pandas as pd\n",
    "import numpy as np"
   ]
  },
  {
   "cell_type": "code",
   "execution_count": 242,
   "id": "b369549c",
   "metadata": {},
   "outputs": [],
   "source": [
    "df = pd.read_csv(\"D:/One Drive/OneDrive - University of Bristol/Bristol Data Science/Project/Data/Weather/cleaned_data_weather.csv\")"
   ]
  },
  {
   "cell_type": "code",
   "execution_count": 243,
   "id": "873751b5",
   "metadata": {},
   "outputs": [
    {
     "data": {
      "text/plain": [
       "Index(['date', 'cloud_cover', 'sunshine', 'global_radiation', 'max_temp',\n",
       "       'mean_temp', 'min_temp', 'precipitation', 'pressure', 'snow_depth'],\n",
       "      dtype='object')"
      ]
     },
     "execution_count": 243,
     "metadata": {},
     "output_type": "execute_result"
    }
   ],
   "source": [
    "df.columns"
   ]
  },
  {
   "cell_type": "code",
   "execution_count": 244,
   "id": "685e3b93",
   "metadata": {},
   "outputs": [
    {
     "data": {
      "text/plain": [
       "<bound method NDFrame.head of            date  cloud_cover  sunshine  global_radiation  max_temp  mean_temp  \\\n",
       "0      19790101          2.0       7.0              52.0       2.3       -4.1   \n",
       "1      19790102          6.0       1.7              27.0       1.6       -2.6   \n",
       "2      19790103          5.0       0.0              13.0       1.3       -2.8   \n",
       "3      19790104          8.0       0.0              13.0      -0.3       -2.6   \n",
       "4      19790105          6.0       2.0              29.0       5.6       -0.8   \n",
       "...         ...          ...       ...               ...       ...        ...   \n",
       "15076  20201224          2.0       1.3              32.0       6.1        6.1   \n",
       "15077  20201225          6.0       3.5              40.0       4.6        2.6   \n",
       "15078  20201226          5.8       2.1              38.0      10.0        4.9   \n",
       "15079  20201230          6.0       0.4              22.0       5.6        2.7   \n",
       "15080  20201231          7.0       1.3              34.0       1.5       -0.8   \n",
       "\n",
       "       min_temp  precipitation  pressure  snow_depth  \n",
       "0          -7.5            0.4  101900.0         9.0  \n",
       "1          -7.5            0.0  102530.0         8.0  \n",
       "2          -7.2            0.0  102050.0         4.0  \n",
       "3          -6.5            0.0  100840.0         2.0  \n",
       "4          -1.4            0.0  102250.0         1.0  \n",
       "...         ...            ...       ...         ...  \n",
       "15076       6.1            0.0  101830.0         0.0  \n",
       "15077       0.7            0.0  103100.0         0.0  \n",
       "15078      -0.1           12.0  101960.0         0.0  \n",
       "15079      -0.1            0.0  100200.0         0.0  \n",
       "15080      -3.1            0.0  100500.0         0.0  \n",
       "\n",
       "[15081 rows x 10 columns]>"
      ]
     },
     "execution_count": 244,
     "metadata": {},
     "output_type": "execute_result"
    }
   ],
   "source": [
    "df.head"
   ]
  },
  {
   "cell_type": "code",
   "execution_count": null,
   "id": "084fd540",
   "metadata": {},
   "outputs": [],
   "source": []
  },
  {
   "cell_type": "markdown",
   "id": "27d97655",
   "metadata": {},
   "source": [
    "#### cloud_cover"
   ]
  },
  {
   "cell_type": "code",
   "execution_count": 245,
   "id": "a5dc5794",
   "metadata": {},
   "outputs": [
    {
     "data": {
      "text/plain": [
       "7.0    3117\n",
       "6.0    2953\n",
       "5.0    2292\n",
       "8.0    1903\n",
       "4.0    1815\n",
       "3.0    1148\n",
       "2.0     860\n",
       "1.0     603\n",
       "0.0     375\n",
       "5.8       3\n",
       "6.8       2\n",
       "5.4       2\n",
       "7.4       2\n",
       "9.0       2\n",
       "5.6       1\n",
       "6.2       1\n",
       "6.6       1\n",
       "7.2       1\n",
       "Name: cloud_cover, dtype: int64"
      ]
     },
     "execution_count": 245,
     "metadata": {},
     "output_type": "execute_result"
    }
   ],
   "source": [
    "df['cloud_cover'].value_counts()"
   ]
  },
  {
   "cell_type": "code",
   "execution_count": 246,
   "id": "867f8b93",
   "metadata": {},
   "outputs": [],
   "source": [
    "condition = (df['cloud_cover'] % 1 != 0) | (df['cloud_cover'] > 8.0)\n",
    "\n",
    "# 从DataFrame中去除满足条件的行\n",
    "df = df[~condition]"
   ]
  },
  {
   "cell_type": "code",
   "execution_count": 247,
   "id": "94e08dcd",
   "metadata": {},
   "outputs": [
    {
     "data": {
      "text/plain": [
       "7.0    3117\n",
       "6.0    2953\n",
       "5.0    2292\n",
       "8.0    1903\n",
       "4.0    1815\n",
       "3.0    1148\n",
       "2.0     860\n",
       "1.0     603\n",
       "0.0     375\n",
       "Name: cloud_cover, dtype: int64"
      ]
     },
     "execution_count": 247,
     "metadata": {},
     "output_type": "execute_result"
    }
   ],
   "source": [
    "df['cloud_cover'].value_counts()"
   ]
  },
  {
   "cell_type": "code",
   "execution_count": null,
   "id": "0d14d672",
   "metadata": {},
   "outputs": [],
   "source": []
  },
  {
   "cell_type": "markdown",
   "id": "c2177ca4",
   "metadata": {},
   "source": [
    "#### change the sunshine into hours"
   ]
  },
  {
   "cell_type": "code",
   "execution_count": 248,
   "id": "e115f6f9",
   "metadata": {},
   "outputs": [
    {
     "name": "stderr",
     "output_type": "stream",
     "text": [
      "C:\\Users\\Administrator\\AppData\\Local\\Temp\\ipykernel_23532\\4129770657.py:1: SettingWithCopyWarning: \n",
      "A value is trying to be set on a copy of a slice from a DataFrame.\n",
      "Try using .loc[row_indexer,col_indexer] = value instead\n",
      "\n",
      "See the caveats in the documentation: https://pandas.pydata.org/pandas-docs/stable/user_guide/indexing.html#returning-a-view-versus-a-copy\n",
      "  df['sunshine'] = df['sunshine'] * 60\n"
     ]
    }
   ],
   "source": [
    "df['sunshine'] = df['sunshine'] * 60"
   ]
  },
  {
   "cell_type": "code",
   "execution_count": null,
   "id": "ea952684",
   "metadata": {},
   "outputs": [],
   "source": []
  },
  {
   "cell_type": "markdown",
   "id": "7205354d",
   "metadata": {},
   "source": [
    "#### change snow depth into a category value"
   ]
  },
  {
   "cell_type": "code",
   "execution_count": 249,
   "id": "31b792c2",
   "metadata": {},
   "outputs": [
    {
     "data": {
      "text/plain": [
       "0.0     14935\n",
       "1.0        45\n",
       "2.0        23\n",
       "4.0        15\n",
       "3.0        15\n",
       "5.0         6\n",
       "6.0         4\n",
       "7.0         4\n",
       "8.0         4\n",
       "10.0        2\n",
       "0.4         2\n",
       "12.0        2\n",
       "11.0        2\n",
       "9.0         1\n",
       "18.0        1\n",
       "13.0        1\n",
       "15.0        1\n",
       "16.0        1\n",
       "22.0        1\n",
       "0.8         1\n",
       "Name: snow_depth, dtype: int64"
      ]
     },
     "execution_count": 249,
     "metadata": {},
     "output_type": "execute_result"
    }
   ],
   "source": [
    "df['snow_depth'].value_counts()"
   ]
  },
  {
   "cell_type": "code",
   "execution_count": 250,
   "id": "a9d34726",
   "metadata": {},
   "outputs": [],
   "source": [
    "df.loc[df['snow_depth'] > 0, 'snow_depth'] = 1.0"
   ]
  },
  {
   "cell_type": "code",
   "execution_count": 251,
   "id": "a5673b91",
   "metadata": {},
   "outputs": [
    {
     "data": {
      "text/plain": [
       "0.0    14935\n",
       "1.0      131\n",
       "Name: snow_depth, dtype: int64"
      ]
     },
     "execution_count": 251,
     "metadata": {},
     "output_type": "execute_result"
    }
   ],
   "source": [
    "df['snow_depth'].value_counts()"
   ]
  },
  {
   "cell_type": "code",
   "execution_count": null,
   "id": "8e2d2322",
   "metadata": {},
   "outputs": [],
   "source": []
  },
  {
   "cell_type": "code",
   "execution_count": null,
   "id": "81a9af23",
   "metadata": {},
   "outputs": [],
   "source": []
  },
  {
   "cell_type": "markdown",
   "id": "6a5501b0",
   "metadata": {},
   "source": [
    "#### change the precipitation into category value"
   ]
  },
  {
   "cell_type": "code",
   "execution_count": 252,
   "id": "d7325ff0",
   "metadata": {},
   "outputs": [
    {
     "data": {
      "text/plain": [
       "0.00     7909\n",
       "0.20     1005\n",
       "0.40      452\n",
       "0.10      313\n",
       "0.60      297\n",
       "         ... \n",
       "53.10       1\n",
       "18.70       1\n",
       "25.40       1\n",
       "20.00       1\n",
       "0.46        1\n",
       "Name: precipitation, Length: 261, dtype: int64"
      ]
     },
     "execution_count": 252,
     "metadata": {},
     "output_type": "execute_result"
    }
   ],
   "source": [
    "df['precipitation'].value_counts()"
   ]
  },
  {
   "cell_type": "code",
   "execution_count": 253,
   "id": "74b172c7",
   "metadata": {},
   "outputs": [
    {
     "name": "stderr",
     "output_type": "stream",
     "text": [
      "C:\\Users\\Administrator\\AppData\\Local\\Temp\\ipykernel_23532\\1477534085.py:4: SettingWithCopyWarning: \n",
      "A value is trying to be set on a copy of a slice from a DataFrame.\n",
      "Try using .loc[row_indexer,col_indexer] = value instead\n",
      "\n",
      "See the caveats in the documentation: https://pandas.pydata.org/pandas-docs/stable/user_guide/indexing.html#returning-a-view-versus-a-copy\n",
      "  df['precipitation'] = pd.cut(df['precipitation'], bins=bins, labels=labels, right=False)\n"
     ]
    }
   ],
   "source": [
    "bins = [-float('inf'), 0.1, 2.5, 10, 50, float('inf')]\n",
    "labels = [0, 1, 2, 3, 4]\n",
    "\n",
    "df['precipitation'] = pd.cut(df['precipitation'], bins=bins, labels=labels, right=False)"
   ]
  },
  {
   "cell_type": "code",
   "execution_count": 254,
   "id": "24537740",
   "metadata": {},
   "outputs": [
    {
     "data": {
      "text/plain": [
       "0    7909\n",
       "1    4251\n",
       "2    2335\n",
       "3     567\n",
       "4       4\n",
       "Name: precipitation, dtype: int64"
      ]
     },
     "execution_count": 254,
     "metadata": {},
     "output_type": "execute_result"
    }
   ],
   "source": [
    "df['precipitation'].value_counts()"
   ]
  },
  {
   "cell_type": "code",
   "execution_count": null,
   "id": "03d0227a",
   "metadata": {},
   "outputs": [],
   "source": []
  },
  {
   "cell_type": "code",
   "execution_count": 255,
   "id": "ab523ff5",
   "metadata": {},
   "outputs": [],
   "source": [
    "del df['date']"
   ]
  },
  {
   "cell_type": "code",
   "execution_count": null,
   "id": "3eb4eda1",
   "metadata": {},
   "outputs": [],
   "source": []
  },
  {
   "cell_type": "markdown",
   "id": "ccf44c45",
   "metadata": {},
   "source": [
    "#### check the data"
   ]
  },
  {
   "cell_type": "code",
   "execution_count": 256,
   "id": "b3b82f40",
   "metadata": {},
   "outputs": [
    {
     "data": {
      "text/plain": [
       "Index(['cloud_cover', 'sunshine', 'global_radiation', 'max_temp', 'mean_temp',\n",
       "       'min_temp', 'precipitation', 'pressure', 'snow_depth'],\n",
       "      dtype='object')"
      ]
     },
     "execution_count": 256,
     "metadata": {},
     "output_type": "execute_result"
    }
   ],
   "source": [
    "df.columns"
   ]
  },
  {
   "cell_type": "code",
   "execution_count": null,
   "id": "ae2c24a9",
   "metadata": {},
   "outputs": [],
   "source": []
  },
  {
   "cell_type": "code",
   "execution_count": null,
   "id": "088b9d89",
   "metadata": {},
   "outputs": [],
   "source": []
  },
  {
   "cell_type": "markdown",
   "id": "2f809503",
   "metadata": {},
   "source": [
    "#### construct the target data"
   ]
  },
  {
   "cell_type": "code",
   "execution_count": 257,
   "id": "25341501",
   "metadata": {},
   "outputs": [],
   "source": [
    "df_original_data = df"
   ]
  },
  {
   "cell_type": "code",
   "execution_count": 258,
   "id": "eecf7b12",
   "metadata": {},
   "outputs": [
    {
     "name": "stderr",
     "output_type": "stream",
     "text": [
      "C:\\Users\\Administrator\\AppData\\Local\\Temp\\ipykernel_23532\\764916938.py:1: SettingWithCopyWarning: \n",
      "A value is trying to be set on a copy of a slice from a DataFrame.\n",
      "Try using .loc[row_indexer,col_indexer] = value instead\n",
      "\n",
      "See the caveats in the documentation: https://pandas.pydata.org/pandas-docs/stable/user_guide/indexing.html#returning-a-view-versus-a-copy\n",
      "  df['next_1_day_mean_temp'] = df_original_data['mean_temp'].shift(-1)\n",
      "C:\\Users\\Administrator\\AppData\\Local\\Temp\\ipykernel_23532\\764916938.py:2: SettingWithCopyWarning: \n",
      "A value is trying to be set on a copy of a slice from a DataFrame.\n",
      "Try using .loc[row_indexer,col_indexer] = value instead\n",
      "\n",
      "See the caveats in the documentation: https://pandas.pydata.org/pandas-docs/stable/user_guide/indexing.html#returning-a-view-versus-a-copy\n",
      "  df['next_2_day_mean_temp'] = df_original_data['mean_temp'].shift(-2)\n",
      "C:\\Users\\Administrator\\AppData\\Local\\Temp\\ipykernel_23532\\764916938.py:3: SettingWithCopyWarning: \n",
      "A value is trying to be set on a copy of a slice from a DataFrame.\n",
      "Try using .loc[row_indexer,col_indexer] = value instead\n",
      "\n",
      "See the caveats in the documentation: https://pandas.pydata.org/pandas-docs/stable/user_guide/indexing.html#returning-a-view-versus-a-copy\n",
      "  df['next_3_day_mean_temp'] = df_original_data['mean_temp'].shift(-3)\n"
     ]
    }
   ],
   "source": [
    "df['next_1_day_mean_temp'] = df_original_data['mean_temp'].shift(-1)\n",
    "df['next_2_day_mean_temp'] = df_original_data['mean_temp'].shift(-2)\n",
    "df['next_3_day_mean_temp'] = df_original_data['mean_temp'].shift(-3)"
   ]
  },
  {
   "cell_type": "code",
   "execution_count": 259,
   "id": "10ea03d1",
   "metadata": {},
   "outputs": [
    {
     "name": "stderr",
     "output_type": "stream",
     "text": [
      "C:\\Users\\Administrator\\AppData\\Local\\Temp\\ipykernel_23532\\1379821321.py:1: SettingWithCopyWarning: \n",
      "A value is trying to be set on a copy of a slice from a DataFrame\n",
      "\n",
      "See the caveats in the documentation: https://pandas.pydata.org/pandas-docs/stable/user_guide/indexing.html#returning-a-view-versus-a-copy\n",
      "  df.dropna(inplace=True)\n"
     ]
    }
   ],
   "source": [
    "df.dropna(inplace=True)"
   ]
  },
  {
   "cell_type": "code",
   "execution_count": 260,
   "id": "d95da2dc",
   "metadata": {},
   "outputs": [
    {
     "data": {
      "text/plain": [
       "<bound method NDFrame.head of        cloud_cover  sunshine  global_radiation  max_temp  mean_temp  min_temp  \\\n",
       "0              2.0     420.0              52.0       2.3       -4.1      -7.5   \n",
       "1              6.0     102.0              27.0       1.6       -2.6      -7.5   \n",
       "2              5.0       0.0              13.0       1.3       -2.8      -7.2   \n",
       "3              8.0       0.0              13.0      -0.3       -2.6      -6.5   \n",
       "4              6.0     120.0              29.0       5.6       -0.8      -1.4   \n",
       "...            ...       ...               ...       ...        ...       ...   \n",
       "15072          1.0     198.0              37.0      10.6        8.6       6.7   \n",
       "15073          8.0     234.0              37.0      13.9        9.5       5.1   \n",
       "15074          8.0       0.0              16.0      11.7       11.7      11.7   \n",
       "15075          7.0       0.0              23.0      14.0       12.0      10.1   \n",
       "15076          2.0      78.0              32.0       6.1        6.1       6.1   \n",
       "\n",
       "      precipitation  pressure  snow_depth  next_1_day_mean_temp  \\\n",
       "0                 1  101900.0         1.0                  -2.6   \n",
       "1                 0  102530.0         1.0                  -2.8   \n",
       "2                 0  102050.0         1.0                  -2.6   \n",
       "3                 0  100840.0         1.0                  -0.8   \n",
       "4                 0  102250.0         1.0                  -0.5   \n",
       "...             ...       ...         ...                   ...   \n",
       "15072             1  101170.0         0.0                   9.5   \n",
       "15073             2  100770.0         0.0                  11.7   \n",
       "15074             1  100970.0         0.0                  12.0   \n",
       "15075             1  100550.0         0.0                   6.1   \n",
       "15076             0  101830.0         0.0                   2.6   \n",
       "\n",
       "       next_2_day_mean_temp  next_3_day_mean_temp  \n",
       "0                      -2.8                  -2.6  \n",
       "1                      -2.6                  -0.8  \n",
       "2                      -0.8                  -0.5  \n",
       "3                      -0.5                   1.5  \n",
       "4                       1.5                   6.9  \n",
       "...                     ...                   ...  \n",
       "15072                  11.7                  12.0  \n",
       "15073                  12.0                   6.1  \n",
       "15074                   6.1                   2.6  \n",
       "15075                   2.6                   2.7  \n",
       "15076                   2.7                  -0.8  \n",
       "\n",
       "[15063 rows x 12 columns]>"
      ]
     },
     "execution_count": 260,
     "metadata": {},
     "output_type": "execute_result"
    }
   ],
   "source": [
    "df.head"
   ]
  },
  {
   "cell_type": "code",
   "execution_count": null,
   "id": "a6ed1bdf",
   "metadata": {},
   "outputs": [],
   "source": []
  },
  {
   "cell_type": "code",
   "execution_count": 261,
   "id": "0a1ce3b6",
   "metadata": {
    "scrolled": true
   },
   "outputs": [
    {
     "name": "stdout",
     "output_type": "stream",
     "text": [
      "cloud_cover              float64\n",
      "sunshine                 float64\n",
      "global_radiation         float64\n",
      "max_temp                 float64\n",
      "mean_temp                float64\n",
      "min_temp                 float64\n",
      "precipitation           category\n",
      "pressure                 float64\n",
      "snow_depth               float64\n",
      "next_1_day_mean_temp     float64\n",
      "next_2_day_mean_temp     float64\n",
      "next_3_day_mean_temp     float64\n",
      "dtype: object\n"
     ]
    }
   ],
   "source": [
    "print(df.dtypes)"
   ]
  },
  {
   "cell_type": "code",
   "execution_count": 262,
   "id": "3753638c",
   "metadata": {},
   "outputs": [
    {
     "name": "stderr",
     "output_type": "stream",
     "text": [
      "C:\\Users\\Administrator\\AppData\\Local\\Temp\\ipykernel_23532\\91953526.py:1: SettingWithCopyWarning: \n",
      "A value is trying to be set on a copy of a slice from a DataFrame.\n",
      "Try using .loc[row_indexer,col_indexer] = value instead\n",
      "\n",
      "See the caveats in the documentation: https://pandas.pydata.org/pandas-docs/stable/user_guide/indexing.html#returning-a-view-versus-a-copy\n",
      "  df['cloud_cover'] = df['cloud_cover'].astype('category')\n"
     ]
    }
   ],
   "source": [
    "df['cloud_cover'] = df['cloud_cover'].astype('category')"
   ]
  },
  {
   "cell_type": "code",
   "execution_count": 263,
   "id": "7e476851",
   "metadata": {},
   "outputs": [
    {
     "name": "stderr",
     "output_type": "stream",
     "text": [
      "C:\\Users\\Administrator\\AppData\\Local\\Temp\\ipykernel_23532\\3703053218.py:1: SettingWithCopyWarning: \n",
      "A value is trying to be set on a copy of a slice from a DataFrame.\n",
      "Try using .loc[row_indexer,col_indexer] = value instead\n",
      "\n",
      "See the caveats in the documentation: https://pandas.pydata.org/pandas-docs/stable/user_guide/indexing.html#returning-a-view-versus-a-copy\n",
      "  df['snow_depth'] = df['snow_depth'].astype('category')\n"
     ]
    }
   ],
   "source": [
    "df['snow_depth'] = df['snow_depth'].astype('category')"
   ]
  },
  {
   "cell_type": "code",
   "execution_count": null,
   "id": "82341d33",
   "metadata": {},
   "outputs": [],
   "source": []
  },
  {
   "cell_type": "code",
   "execution_count": null,
   "id": "125c4dbf",
   "metadata": {},
   "outputs": [],
   "source": []
  },
  {
   "cell_type": "code",
   "execution_count": 264,
   "id": "95179ab6",
   "metadata": {},
   "outputs": [
    {
     "name": "stdout",
     "output_type": "stream",
     "text": [
      "cloud_cover             category\n",
      "sunshine                 float64\n",
      "global_radiation         float64\n",
      "max_temp                 float64\n",
      "mean_temp                float64\n",
      "min_temp                 float64\n",
      "precipitation           category\n",
      "pressure                 float64\n",
      "snow_depth              category\n",
      "next_1_day_mean_temp     float64\n",
      "next_2_day_mean_temp     float64\n",
      "next_3_day_mean_temp     float64\n",
      "dtype: object\n"
     ]
    }
   ],
   "source": [
    "print(df.dtypes)"
   ]
  },
  {
   "cell_type": "code",
   "execution_count": null,
   "id": "6d1f4a4c",
   "metadata": {},
   "outputs": [],
   "source": []
  },
  {
   "cell_type": "code",
   "execution_count": 265,
   "id": "46083b21",
   "metadata": {},
   "outputs": [
    {
     "name": "stderr",
     "output_type": "stream",
     "text": [
      "C:\\Users\\Administrator\\AppData\\Local\\Temp\\ipykernel_23532\\2180195071.py:1: SettingWithCopyWarning: \n",
      "A value is trying to be set on a copy of a slice from a DataFrame.\n",
      "Try using .loc[row_indexer,col_indexer] = value instead\n",
      "\n",
      "See the caveats in the documentation: https://pandas.pydata.org/pandas-docs/stable/user_guide/indexing.html#returning-a-view-versus-a-copy\n",
      "  df['cloud_cover_code'] = df['cloud_cover'].cat.codes\n",
      "C:\\Users\\Administrator\\AppData\\Local\\Temp\\ipykernel_23532\\2180195071.py:2: SettingWithCopyWarning: \n",
      "A value is trying to be set on a copy of a slice from a DataFrame.\n",
      "Try using .loc[row_indexer,col_indexer] = value instead\n",
      "\n",
      "See the caveats in the documentation: https://pandas.pydata.org/pandas-docs/stable/user_guide/indexing.html#returning-a-view-versus-a-copy\n",
      "  df['precipitation_code'] = df['precipitation'].cat.codes\n",
      "C:\\Users\\Administrator\\AppData\\Local\\Temp\\ipykernel_23532\\2180195071.py:3: SettingWithCopyWarning: \n",
      "A value is trying to be set on a copy of a slice from a DataFrame.\n",
      "Try using .loc[row_indexer,col_indexer] = value instead\n",
      "\n",
      "See the caveats in the documentation: https://pandas.pydata.org/pandas-docs/stable/user_guide/indexing.html#returning-a-view-versus-a-copy\n",
      "  df['snow_depth_code'] = df['snow_depth'].cat.codes\n"
     ]
    }
   ],
   "source": [
    "df['cloud_cover_code'] = df['cloud_cover'].cat.codes\n",
    "df['precipitation_code'] = df['precipitation'].cat.codes\n",
    "df['snow_depth_code'] = df['snow_depth'].cat.codes"
   ]
  },
  {
   "cell_type": "code",
   "execution_count": 266,
   "id": "bceca878",
   "metadata": {},
   "outputs": [
    {
     "name": "stdout",
     "output_type": "stream",
     "text": [
      "cloud_cover             category\n",
      "sunshine                 float64\n",
      "global_radiation         float64\n",
      "max_temp                 float64\n",
      "mean_temp                float64\n",
      "min_temp                 float64\n",
      "precipitation           category\n",
      "pressure                 float64\n",
      "snow_depth              category\n",
      "next_1_day_mean_temp     float64\n",
      "next_2_day_mean_temp     float64\n",
      "next_3_day_mean_temp     float64\n",
      "cloud_cover_code            int8\n",
      "precipitation_code          int8\n",
      "snow_depth_code             int8\n",
      "dtype: object\n"
     ]
    }
   ],
   "source": [
    "print(df.dtypes)"
   ]
  },
  {
   "cell_type": "code",
   "execution_count": 267,
   "id": "82b2a9a3",
   "metadata": {},
   "outputs": [],
   "source": [
    "del df['precipitation']\n",
    "del df['cloud_cover']\n",
    "del df['snow_depth']"
   ]
  },
  {
   "cell_type": "code",
   "execution_count": 268,
   "id": "c6b25fb4",
   "metadata": {},
   "outputs": [
    {
     "name": "stdout",
     "output_type": "stream",
     "text": [
      "sunshine                float64\n",
      "global_radiation        float64\n",
      "max_temp                float64\n",
      "mean_temp               float64\n",
      "min_temp                float64\n",
      "pressure                float64\n",
      "next_1_day_mean_temp    float64\n",
      "next_2_day_mean_temp    float64\n",
      "next_3_day_mean_temp    float64\n",
      "cloud_cover_code           int8\n",
      "precipitation_code         int8\n",
      "snow_depth_code            int8\n",
      "dtype: object\n"
     ]
    }
   ],
   "source": [
    "print(df.dtypes)"
   ]
  },
  {
   "cell_type": "code",
   "execution_count": null,
   "id": "1ac750dd",
   "metadata": {},
   "outputs": [],
   "source": []
  },
  {
   "cell_type": "code",
   "execution_count": null,
   "id": "d8c9f23e",
   "metadata": {},
   "outputs": [],
   "source": []
  },
  {
   "cell_type": "code",
   "execution_count": null,
   "id": "a0563ab1",
   "metadata": {},
   "outputs": [],
   "source": []
  },
  {
   "cell_type": "code",
   "execution_count": 269,
   "id": "571fc26f",
   "metadata": {},
   "outputs": [],
   "source": [
    "import pandas as pd\n",
    "import xgboost as xgb\n",
    "import numpy as np\n",
    "from sklearn.model_selection import train_test_split\n",
    "from sklearn.metrics import mean_squared_error, mean_absolute_error,median_absolute_error\n",
    "from sklearn.multioutput import MultiOutputRegressor\n",
    "from scipy.stats import pearsonr\n",
    "\n",
    "\n",
    "X = df.drop(['next_1_day_mean_temp','next_2_day_mean_temp','next_3_day_mean_temp'], axis=1)\n",
    "y = df[['next_1_day_mean_temp', 'next_2_day_mean_temp','next_3_day_mean_temp']] \n",
    "\n",
    "\n",
    "X_train, X_test, y_train, y_test = train_test_split(X, y, test_size=0.2, random_state=42)\n",
    "\n",
    "X_train, X_val, y_train, y_val = train_test_split(X_train, y_train, test_size=0.2, random_state=42)\n",
    "\n"
   ]
  },
  {
   "cell_type": "code",
   "execution_count": null,
   "id": "4f608ec6",
   "metadata": {},
   "outputs": [],
   "source": []
  },
  {
   "cell_type": "code",
   "execution_count": null,
   "id": "cd13462e",
   "metadata": {},
   "outputs": [],
   "source": []
  },
  {
   "cell_type": "code",
   "execution_count": 270,
   "id": "778e48f9",
   "metadata": {},
   "outputs": [
    {
     "data": {
      "text/plain": [
       "3.780121294946712"
      ]
     },
     "execution_count": 270,
     "metadata": {},
     "output_type": "execute_result"
    }
   ],
   "source": [
    "import xgboost as xgb\n",
    "import numpy as np\n",
    "from sklearn.metrics import mean_absolute_error, mean_squared_error\n",
    "\n",
    "\n",
    "xgboost_model = MultiOutputRegressor(xgb.XGBRegressor(objective='reg:squarederror', \n",
    "                                                      learning_rate=0.07,            # 学习率，控制每次迭代权重的更新幅度\n",
    "                                                      gamma = 10,\n",
    "                                                      max_depth=5,                  # 树的最大深度\n",
    "                                                      min_child_weight=1,\n",
    "                                                      n_estimators=100,             # 决策树的数量（迭代次数）\n",
    "                                                      subsample=0.8,                # 每次迭代时用于训练的样本比例\n",
    "                                                      colsample_bytree=0.8,\n",
    "                                                      reg_alpha = 0.4, \n",
    "                                                      reg_lambda = 0.7\n",
    "                                                     ))\n",
    "\n",
    "\n",
    "xgboost_model.fit(X_train, y_train)\n",
    "\n",
    "y_pred = xgboost_model.predict(X_val)\n",
    "\n",
    "mse = mean_squared_error(y_val, y_pred)\n",
    "\n",
    "mse"
   ]
  },
  {
   "cell_type": "code",
   "execution_count": null,
   "id": "c0485a6d",
   "metadata": {},
   "outputs": [],
   "source": []
  },
  {
   "cell_type": "code",
   "execution_count": null,
   "id": "a177f6cb",
   "metadata": {},
   "outputs": [],
   "source": []
  },
  {
   "cell_type": "code",
   "execution_count": null,
   "id": "e338b4ec",
   "metadata": {},
   "outputs": [],
   "source": []
  },
  {
   "cell_type": "code",
   "execution_count": null,
   "id": "485663ee",
   "metadata": {},
   "outputs": [],
   "source": [
    "'''\n",
    "model = xgb.XGBRegressor(\n",
    "    objective='reg:squarederror',  # 损失函数为平方损失函数，适用于回归问题\n",
    "    learning_rate=0.1,            # 学习率，控制每次迭代权重的更新幅度\n",
    "    gamma = 0,\n",
    "    max_depth=5,                  # 树的最大深度\n",
    "    min_child_weight=1,\n",
    "    n_estimators=500,             # 决策树的数量（迭代次数）\n",
    "    subsample=0.8,                # 每次迭代时用于训练的样本比例\n",
    "    colsample_bytree=0.8,         # 每次迭代时用于训练的特征比例\n",
    "    random_state=42               # 随机种子，用于重现结果\n",
    ")\n",
    "'''"
   ]
  },
  {
   "cell_type": "code",
   "execution_count": null,
   "id": "b51a84fd",
   "metadata": {},
   "outputs": [],
   "source": []
  },
  {
   "cell_type": "code",
   "execution_count": null,
   "id": "1560ea12",
   "metadata": {},
   "outputs": [],
   "source": []
  },
  {
   "cell_type": "code",
   "execution_count": null,
   "id": "8dc061b3",
   "metadata": {},
   "outputs": [],
   "source": []
  },
  {
   "cell_type": "code",
   "execution_count": null,
   "id": "e6509088",
   "metadata": {},
   "outputs": [],
   "source": []
  },
  {
   "cell_type": "code",
   "execution_count": null,
   "id": "c32b23a4",
   "metadata": {},
   "outputs": [],
   "source": []
  },
  {
   "cell_type": "code",
   "execution_count": null,
   "id": "88db498e",
   "metadata": {},
   "outputs": [],
   "source": []
  },
  {
   "cell_type": "code",
   "execution_count": null,
   "id": "20f25a0b",
   "metadata": {},
   "outputs": [],
   "source": [
    "def XGfit(xgb_regressor, dtrain, useTrainCV = True):\n",
    "    if useTrainCV:\n",
    "        xgb_param = xgb_regressor.get_xgb_params()\n",
    "        \n",
    "        cvresult = xgb.cv(xgb_param, dtrain, num_boost_round=xgb_regressor.get_params()['n_estimators'], nfold=5, metrics='mae', early_stopping_rounds=50)\n",
    "        \n",
    "        xgb_regressor.set_params(n_estimators=cvresult.shape[0])\n",
    "        print('Best Iteration: ', xgb_regressor.get_params()['n_estimators'])\n",
    "\n",
    "    # Fit the algorithm on the data\n",
    "    #y = yy\n",
    "    #y = xgb.DMatrix(y)\n",
    "    #xgb_regressor.fit(dtrain, dtrain.get_label())\n",
    "    #xgb_regressor.fit(X_train, y_train)\n",
    "    xgb_regressor = xgb.train(xgb_param,dtrain)\n",
    "    \n",
    "    # Predict training \n",
    "    predictions = xgb_regressor.predict(dtrain)\n",
    "    #print(type(predictions))\n",
    "    #print('prediction的shape：',predictions.shape)\n",
    "    #print('小测试：', predictions[:,0].shape)\n",
    "    \n",
    "    # change data type\n",
    "    predictions = pd.DataFrame(predictions, columns=['next_1_day_mean_temp', 'next_2_day_mean_temp','next_3_day_mean_temp'])\n",
    "    \n",
    "    # Print model report:\n",
    "    print(\"  \\n      Model Report:\")\n",
    "    \n",
    "    # For Mean Absolute Error (MAE)\n",
    "    mae = mean_absolute_error(y_train, predictions)\n",
    "    print(\"Mean Absolute Error (MAE): %.4f\" % mae)\n",
    "\n",
    "    # For Mean Squared Error (MSE)\n",
    "    mse = mean_squared_error(y_train, predictions)\n",
    "    print(\"Mean Squared Error (MSE): %.4f\" % mse)\n",
    "    \n",
    "    # For Root Mean Squared Error\n",
    "    rmse = np.sqrt(mse)\n",
    "    print(\"Root Mean Squared Error (RMSE): %.4f\" % rmse)\n",
    "    \n",
    "    # Median Absolute Error\n",
    "    mdae = median_absolute_error(y_train, predictions)\n",
    "    print(\"Median Absolute Error (MdAE): %.4f\" % mdae)\n",
    "    \n",
    "    # Mean Absolute Percentage Error\n",
    "    diff = np.abs((y_train - predictions) / y_train)\n",
    "    diff.replace([np.inf, -np.inf], np.nan, inplace=True)\n",
    "    diff.dropna(inplace=True)\n",
    "    mape = np.mean(np.mean(diff)*100)\n",
    "    print(\"Mean Absolute Percentage Error (MAPE): %.4f\" % mape)\n",
    "    \n",
    "    # Root Mean Square Percentage Error\n",
    "    n = y_train.shape[1] \n",
    "    rmspe_scores = []\n",
    "    for i in range(n):\n",
    "        y_obs = y_train.iloc[:, i] \n",
    "        y_predict = predictions.iloc[:, i]  \n",
    "        diff = ((y_obs - y_predict) / y_obs) ** 2\n",
    "        diff.replace([np.inf, -np.inf], np.nan, inplace=True)\n",
    "        diff.dropna(inplace=True)\n",
    "        rmspe = np.sqrt(np.mean(diff)) * 100\n",
    "        rmspe_scores.append(rmspe)\n",
    "    rmspe = np.mean(rmspe_scores,axis=0)\n",
    "    #rmspe = rmspe_scores\n",
    "    print(\"Root Mean Square Percentage Error (RMSPE): %.4f\" % rmspe)\n",
    "    #print(\"Root Mean Square Percentage Error (RMSPE): \", rmspe)    \n",
    "    \n",
    "    # Pearson's correlation coefficient\n",
    "    correlations = []\n",
    "    for i in range(y_train.shape[1]):\n",
    "        pearson_corr, _ = pearsonr(y_train.iloc[:, i], predictions.iloc[:,i])\n",
    "        correlations.append(pearson_corr)\n",
    "    mean_pearson_corr = np.mean(correlations, axis=0)\n",
    "    print(\"Pearson\\'s correlation coefficient: %.4f\" % mean_pearson_corr)\n",
    "    \n",
    "    # Index of Agreement\n",
    "    n = y_train.shape[1]  \n",
    "    ia_scores = []\n",
    "    for i in range(n):\n",
    "        y_obs = y_train.iloc[:, i]  \n",
    "        y_predict = predictions.iloc[:,i]  \n",
    "        y_obs_avg = np.mean(y_obs)\n",
    "\n",
    "        numerator = np.sum((y_predict - y_obs)**2)\n",
    "        denominator = np.sum((y_obs_avg - y_obs)**2)\n",
    "        ia = 1 - (numerator / denominator)\n",
    "        ia_scores.append(ia)\n",
    "    d = np.mean(ia_scores, axis=0)\n",
    "    print(\"Index of Agreement: %.4f\" % d)\n",
    "    \n",
    "    \n",
    "    "
   ]
  },
  {
   "cell_type": "code",
   "execution_count": 26,
   "id": "0132258a",
   "metadata": {},
   "outputs": [],
   "source": [
    "import xgboost as xgb\n",
    "import numpy as np\n",
    "from sklearn.metrics import mean_absolute_error, mean_squared_error\n",
    "\n",
    "# Generate some dummy regression data\n",
    "#np.random.seed(0)\n",
    "#X = np.random.randn(1000, 10)  # 1000 samples with 10 features each\n",
    "#y = np.random.randn(1000, 3)   # 1000 samples with 3 target variables\n",
    "\n",
    "dtrain = xgb.DMatrix(X_train, label=y_train, enable_categorical=True)\n",
    "dvalidation = xgb.DMatrix(X_val, label=y_val, enable_categorical=True)\n",
    "\n"
   ]
  },
  {
   "cell_type": "code",
   "execution_count": null,
   "id": "2805b543",
   "metadata": {},
   "outputs": [],
   "source": []
  },
  {
   "cell_type": "code",
   "execution_count": null,
   "id": "abece037",
   "metadata": {},
   "outputs": [],
   "source": []
  },
  {
   "cell_type": "code",
   "execution_count": 42,
   "id": "72959edd",
   "metadata": {
    "scrolled": true
   },
   "outputs": [],
   "source": [
    "\n",
    "\n",
    "model = xgb.XGBRegressor(\n",
    "    objective='reg:squarederror',  # 损失函数为平方损失函数，适用于回归问题\n",
    "    learning_rate=0.29,            # 学习率，控制每次迭代权重的更新幅度\n",
    "    gamma = 5.45,\n",
    "    max_depth=5,                  # 树的最大深度\n",
    "    min_child_weight=1,\n",
    "    n_estimators=328,             # 决策树的数量（迭代次数）\n",
    "    subsample=0.7,                # 每次迭代时用于训练的样本比例\n",
    "    colsample_bytree=0.9,         # 每次迭代时用于训练的特征比例\n",
    "    random_state=42,              # 随机种子，用于重现结果\n",
    "    reg_alpha = 0.99,\n",
    "    reg_lambda = 0.16\n",
    ")\n",
    "\n",
    "\n",
    "\n"
   ]
  },
  {
   "cell_type": "code",
   "execution_count": 43,
   "id": "0bdcef55",
   "metadata": {},
   "outputs": [],
   "source": [
    "xgb_regressor = xgb.train(model.get_xgb_params(), dtrain)\n",
    "predictions = xgb_regressor.predict(dvalidation)"
   ]
  },
  {
   "cell_type": "code",
   "execution_count": 44,
   "id": "a331c1dd",
   "metadata": {},
   "outputs": [
    {
     "data": {
      "text/plain": [
       "3.9972122025947034"
      ]
     },
     "execution_count": 44,
     "metadata": {},
     "output_type": "execute_result"
    }
   ],
   "source": [
    "mse = mean_squared_error(y_val, predictions)\n",
    "mse"
   ]
  },
  {
   "cell_type": "code",
   "execution_count": null,
   "id": "b31eb5bd",
   "metadata": {},
   "outputs": [],
   "source": []
  },
  {
   "cell_type": "code",
   "execution_count": null,
   "id": "7a42314d",
   "metadata": {},
   "outputs": [],
   "source": []
  },
  {
   "cell_type": "code",
   "execution_count": null,
   "id": "d5517d11",
   "metadata": {},
   "outputs": [],
   "source": []
  },
  {
   "cell_type": "code",
   "execution_count": null,
   "id": "2f5db31d",
   "metadata": {},
   "outputs": [],
   "source": []
  },
  {
   "cell_type": "code",
   "execution_count": null,
   "id": "07782f85",
   "metadata": {},
   "outputs": [],
   "source": [
    "\n",
    "XGfit(model,dtrain)"
   ]
  },
  {
   "cell_type": "code",
   "execution_count": null,
   "id": "811f24c7",
   "metadata": {},
   "outputs": [],
   "source": [
    "model.get_params()"
   ]
  },
  {
   "cell_type": "code",
   "execution_count": null,
   "id": "c3c34168",
   "metadata": {},
   "outputs": [],
   "source": []
  },
  {
   "cell_type": "code",
   "execution_count": null,
   "id": "f62ab4f6",
   "metadata": {},
   "outputs": [],
   "source": []
  },
  {
   "cell_type": "markdown",
   "id": "969b1e88",
   "metadata": {},
   "source": [
    "#### max_depth 参数调优"
   ]
  },
  {
   "cell_type": "code",
   "execution_count": null,
   "id": "31621fba",
   "metadata": {},
   "outputs": [],
   "source": [
    "from sklearn.model_selection import GridSearchCV\n",
    "\n",
    "param_test1 = {\n",
    " 'max_depth': range(3,10,1),\n",
    " 'min_child_weight': range(1,6,1) \n",
    "}\n",
    "\n",
    "grid_search = GridSearchCV(model, param_grid=param_test1, cv=5, scoring='neg_mean_squared_error')\n",
    "\n",
    "grid_search.fit(X_train,y_train)\n",
    "grid_search.best_params_, grid_search.best_score_"
   ]
  },
  {
   "cell_type": "code",
   "execution_count": null,
   "id": "84ce572e",
   "metadata": {},
   "outputs": [],
   "source": [
    "model.set_params(max_depth = 5, min_child_weight = 5)"
   ]
  },
  {
   "cell_type": "code",
   "execution_count": null,
   "id": "8071b991",
   "metadata": {},
   "outputs": [],
   "source": [
    "model.get_params()"
   ]
  },
  {
   "cell_type": "code",
   "execution_count": null,
   "id": "0e4310e5",
   "metadata": {},
   "outputs": [],
   "source": [
    "XGfit(model,dtrain)"
   ]
  },
  {
   "cell_type": "code",
   "execution_count": null,
   "id": "b10644ee",
   "metadata": {},
   "outputs": [],
   "source": [
    "model.get_params()"
   ]
  },
  {
   "cell_type": "code",
   "execution_count": null,
   "id": "de3a2485",
   "metadata": {},
   "outputs": [],
   "source": []
  },
  {
   "cell_type": "code",
   "execution_count": null,
   "id": "26263afa",
   "metadata": {},
   "outputs": [],
   "source": []
  },
  {
   "cell_type": "markdown",
   "id": "e642881f",
   "metadata": {},
   "source": [
    "#### gamma参数调优"
   ]
  },
  {
   "cell_type": "code",
   "execution_count": null,
   "id": "bd70eca2",
   "metadata": {},
   "outputs": [],
   "source": [
    "from sklearn.model_selection import GridSearchCV\n",
    "\n",
    "param_test2 = {\n",
    " 'gamma':[i/10.0 for i in range(0,5)]\n",
    "}\n",
    "\n",
    "grid_search = GridSearchCV(model, param_grid=param_test2, cv=5, scoring='neg_mean_squared_error')\n",
    "\n",
    "grid_search.fit(X_train,y_train)\n",
    "grid_search.best_params_, grid_search.best_score_"
   ]
  },
  {
   "cell_type": "code",
   "execution_count": null,
   "id": "3fd3c905",
   "metadata": {},
   "outputs": [],
   "source": [
    "model.set_params(gamma = 0.1)"
   ]
  },
  {
   "cell_type": "code",
   "execution_count": null,
   "id": "8d103f59",
   "metadata": {},
   "outputs": [],
   "source": [
    "XGfit(model,dtrain)"
   ]
  },
  {
   "cell_type": "code",
   "execution_count": null,
   "id": "ce46a4a8",
   "metadata": {},
   "outputs": [],
   "source": [
    "model.get_params()"
   ]
  },
  {
   "cell_type": "code",
   "execution_count": null,
   "id": "cce8594c",
   "metadata": {},
   "outputs": [],
   "source": []
  },
  {
   "cell_type": "markdown",
   "id": "58ca78a0",
   "metadata": {},
   "source": [
    "#### 第四步：调整subsample 和 colsample_bytree 参数"
   ]
  },
  {
   "cell_type": "code",
   "execution_count": null,
   "id": "743254e4",
   "metadata": {},
   "outputs": [],
   "source": [
    "from sklearn.model_selection import GridSearchCV\n",
    "\n",
    "param_test3 = {\n",
    " 'subsample':[i/10.0 for i in range(6,10)],\n",
    " 'colsample_bytree':[i/10.0 for i in range(6,10)]\n",
    "}\n",
    "\n",
    "grid_search = GridSearchCV(model, param_grid=param_test3, cv=5, scoring='neg_mean_squared_error')\n",
    "\n",
    "grid_search.fit(X_train,y_train)\n",
    "grid_search.best_params_, grid_search.best_score_"
   ]
  },
  {
   "cell_type": "code",
   "execution_count": null,
   "id": "dca7affe",
   "metadata": {
    "code_folding": []
   },
   "outputs": [],
   "source": [
    "model.set_params(subsample = 0.8, colsample_bytree = 0.9)"
   ]
  },
  {
   "cell_type": "code",
   "execution_count": null,
   "id": "47a22af1",
   "metadata": {},
   "outputs": [],
   "source": [
    "XGfit(model,dtrain)"
   ]
  },
  {
   "cell_type": "code",
   "execution_count": null,
   "id": "64c95bbe",
   "metadata": {},
   "outputs": [],
   "source": [
    "model.get_params()"
   ]
  },
  {
   "cell_type": "code",
   "execution_count": null,
   "id": "dcf8b92d",
   "metadata": {},
   "outputs": [],
   "source": []
  },
  {
   "cell_type": "code",
   "execution_count": null,
   "id": "47ef7e6c",
   "metadata": {},
   "outputs": [],
   "source": []
  },
  {
   "cell_type": "markdown",
   "id": "03ea6d25",
   "metadata": {},
   "source": [
    "#### 第五步：正则化参数调优"
   ]
  },
  {
   "cell_type": "code",
   "execution_count": null,
   "id": "c2aa6747",
   "metadata": {},
   "outputs": [],
   "source": [
    "from sklearn.model_selection import GridSearchCV\n",
    "\n",
    "param_test4 = {\n",
    " 'reg_alpha':[1e-5, 1e-2, 0.1, 1, 100]\n",
    "}\n",
    "\n",
    "grid_search = GridSearchCV(model, param_grid=param_test4, cv=5, scoring='neg_mean_squared_error')\n",
    "\n",
    "grid_search.fit(X_train,y_train)\n",
    "grid_search.best_params_, grid_search.best_score_"
   ]
  },
  {
   "cell_type": "code",
   "execution_count": null,
   "id": "ef8ef0b3",
   "metadata": {},
   "outputs": [],
   "source": [
    "model.set_params(reg_alpha = 1e-05)"
   ]
  },
  {
   "cell_type": "code",
   "execution_count": null,
   "id": "ab15e70f",
   "metadata": {},
   "outputs": [],
   "source": [
    "XGfit(model,dtrain)"
   ]
  },
  {
   "cell_type": "code",
   "execution_count": null,
   "id": "28412a4f",
   "metadata": {},
   "outputs": [],
   "source": []
  },
  {
   "cell_type": "code",
   "execution_count": null,
   "id": "bc36fbaf",
   "metadata": {},
   "outputs": [],
   "source": []
  },
  {
   "cell_type": "code",
   "execution_count": null,
   "id": "394fde69",
   "metadata": {},
   "outputs": [],
   "source": []
  },
  {
   "cell_type": "code",
   "execution_count": null,
   "id": "09170b4d",
   "metadata": {},
   "outputs": [],
   "source": []
  },
  {
   "cell_type": "code",
   "execution_count": null,
   "id": "81bce4fb",
   "metadata": {},
   "outputs": [],
   "source": []
  },
  {
   "cell_type": "code",
   "execution_count": null,
   "id": "ca2ffc65",
   "metadata": {},
   "outputs": [],
   "source": []
  },
  {
   "cell_type": "code",
   "execution_count": null,
   "id": "9cc63b81",
   "metadata": {},
   "outputs": [],
   "source": []
  },
  {
   "cell_type": "code",
   "execution_count": null,
   "id": "9e430750",
   "metadata": {},
   "outputs": [],
   "source": []
  },
  {
   "cell_type": "code",
   "execution_count": null,
   "id": "f5149922",
   "metadata": {},
   "outputs": [],
   "source": [
    "# 定义XGBoost回归模型\n",
    "model = xgb.XGBRegressor(\n",
    "    objective='reg:squarederror',  # 损失函数为平方损失函数，适用于回归问题\n",
    "    learning_rate=0.1,            # 学习率，控制每次迭代权重的更新幅度\n",
    "    max_depth=4,                  # 树的最大深度\n",
    "    n_estimators=87,             # 决策树的数量（迭代次数）\n",
    "    subsample=0.7,                # 每次迭代时用于训练的样本比例\n",
    "    colsample_bytree=0.9,         # 每次迭代时用于训练的特征比例\n",
    "    reg_alpha = 1e-05,\n",
    "    gamma = 0.3,\n",
    "    random_state=42               # 随机种子，用于重现结果\n",
    ")\n",
    "\n",
    "# 训练模型\n",
    "model.fit(X_train, y_train)\n",
    "\n",
    "# 在测试集上进行预测\n",
    "y_pred = model.predict(X_test)\n",
    "\n",
    "\n"
   ]
  },
  {
   "cell_type": "code",
   "execution_count": null,
   "id": "8791610a",
   "metadata": {},
   "outputs": [],
   "source": [
    "\n",
    "# Mean Squared Error\n",
    "mse = mean_squared_error(y_test, y_pred, multioutput='uniform_average')\n",
    "\n",
    "\n",
    "# Root Mean Squared Error\n",
    "rmse = np.sqrt(mse)\n",
    "\n",
    "\n",
    "# Mean Absolute Error\n",
    "mae = mean_absolute_error(y_test, y_pred, multioutput='uniform_average')\n",
    "\n",
    "\n",
    "# Median Absolute Error\n",
    "mdae = median_absolute_error(y_test, y_pred)\n",
    "\n",
    "\n",
    "# Mean Absolute Percentage Error\n",
    "diff = np.abs((y_test - y_pred) / y_test)\n",
    "diff.replace([np.inf, -np.inf], np.nan, inplace=True)\n",
    "diff.dropna(inplace=True)\n",
    "mape = np.mean(np.mean(diff)*100)\n",
    "\n",
    "\n",
    "# Root Mean Square Percentage Error\n",
    "n = y_test.shape[1] \n",
    "rmspe_scores = []\n",
    "for i in range(n):\n",
    "    y_obs = y_test.iloc[:, i] \n",
    "    y_predict = y_pred[:, i]  \n",
    "    diff = ((y_obs - y_predict) / y_obs) ** 2\n",
    "    diff.replace([np.inf, -np.inf], np.nan, inplace=True)\n",
    "    diff.dropna(inplace=True)\n",
    "    rmspe = np.sqrt(np.mean(diff)) * 100\n",
    "    rmspe_scores.append(rmspe)\n",
    "rmspe = np.mean(rmspe_scores)\n",
    "\n",
    "\n",
    "# Pearson's correlation coefficient\n",
    "correlations = []\n",
    "for i in range(y_test.shape[1]):\n",
    "    pearson_corr, _ = pearsonr(y_test.iloc[:, i], y_pred[:,i])\n",
    "    correlations.append(pearson_corr)\n",
    "mean_pearson_corr = np.mean(correlations)\n",
    "\n",
    "\n",
    "# Index of Agreement\n",
    "n = y_test.shape[1]  \n",
    "ia_scores = []\n",
    "for i in range(n):\n",
    "    y_obs = y_test.iloc[:, i]  \n",
    "    y_predict = y_pred[:,i]  \n",
    "    y_obs_avg = np.mean(y_obs)\n",
    "\n",
    "    numerator = np.sum((y_predict - y_obs)**2)\n",
    "    denominator = np.sum((y_obs_avg - y_obs)**2)\n",
    "    ia = 1 - (numerator / denominator)\n",
    "    ia_scores.append(ia)\n",
    "d = np.mean(ia_scores)\n",
    "\n",
    "\n",
    "print('Mean Squared Error:', mse)\n",
    "print('Root Mean Squared Error:', rmse)\n",
    "print('Mean Absolute Error:', mae)\n",
    "print('Median Absolute Error:', mdae)\n",
    "print('Mean Absolute Percentage Error:',mape)\n",
    "print('Root Mean Square Percentage Error:', rmspe)\n",
    "print('Pearson\\'s correlation coefficient:', mean_pearson_corr)\n",
    "print('Index of Agreement:', d)\n"
   ]
  },
  {
   "cell_type": "code",
   "execution_count": null,
   "id": "115ed08b",
   "metadata": {},
   "outputs": [],
   "source": []
  },
  {
   "cell_type": "code",
   "execution_count": null,
   "id": "6ee2376d",
   "metadata": {},
   "outputs": [],
   "source": []
  },
  {
   "cell_type": "code",
   "execution_count": null,
   "id": "6290a70a",
   "metadata": {},
   "outputs": [],
   "source": []
  },
  {
   "cell_type": "code",
   "execution_count": null,
   "id": "3a01e00f",
   "metadata": {},
   "outputs": [],
   "source": []
  },
  {
   "cell_type": "code",
   "execution_count": null,
   "id": "631631c2",
   "metadata": {},
   "outputs": [],
   "source": []
  }
 ],
 "metadata": {
  "hide_input": false,
  "kernelspec": {
   "display_name": "Python 3 (ipykernel)",
   "language": "python",
   "name": "python3"
  },
  "language_info": {
   "codemirror_mode": {
    "name": "ipython",
    "version": 3
   },
   "file_extension": ".py",
   "mimetype": "text/x-python",
   "name": "python",
   "nbconvert_exporter": "python",
   "pygments_lexer": "ipython3",
   "version": "3.9.12"
  },
  "varInspector": {
   "cols": {
    "lenName": 16,
    "lenType": 16,
    "lenVar": 40
   },
   "kernels_config": {
    "python": {
     "delete_cmd_postfix": "",
     "delete_cmd_prefix": "del ",
     "library": "var_list.py",
     "varRefreshCmd": "print(var_dic_list())"
    },
    "r": {
     "delete_cmd_postfix": ") ",
     "delete_cmd_prefix": "rm(",
     "library": "var_list.r",
     "varRefreshCmd": "cat(var_dic_list()) "
    }
   },
   "types_to_exclude": [
    "module",
    "function",
    "builtin_function_or_method",
    "instance",
    "_Feature"
   ],
   "window_display": false
  }
 },
 "nbformat": 4,
 "nbformat_minor": 5
}
