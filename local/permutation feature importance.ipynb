{
 "cells": [
  {
   "cell_type": "code",
   "execution_count": 53,
   "id": "2fd1aa65",
   "metadata": {},
   "outputs": [
    {
     "data": {
      "text/plain": [
       "0.3566606238695452"
      ]
     },
     "execution_count": 53,
     "metadata": {},
     "output_type": "execute_result"
    }
   ],
   "source": [
    "from sklearn.datasets import load_diabetes\n",
    "from sklearn.model_selection import train_test_split\n",
    "from sklearn.linear_model import Ridge\n",
    "\n",
    "diabetes = load_diabetes()\n",
    "\n",
    "X_train, X_val, y_train, y_val = train_test_split(diabetes.data, diabetes.target, random_state=0)\n",
    "\n",
    "model = Ridge(alpha=1e-2).fit(X_train, y_train)\n",
    "\n",
    "model.score(X_val, y_val)"
   ]
  },
  {
   "cell_type": "code",
   "execution_count": 72,
   "id": "a2b6c7ea",
   "metadata": {},
   "outputs": [
    {
     "name": "stdout",
     "output_type": "stream",
     "text": [
      "neg_mean_absolute_percentage_error\n",
      "    s5      0.081 +/- 0.020\n",
      "    bmi     0.064 +/- 0.015\n",
      "    bp      0.029 +/- 0.010\n",
      "neg_mean_squared_error\n",
      "    s5      1013.903 +/- 246.460\n",
      "    bmi     872.694 +/- 240.296\n",
      "    bp      438.681 +/- 163.025\n",
      "    sex     277.382 +/- 115.126\n"
     ]
    }
   ],
   "source": [
    "from sklearn.inspection import permutation_importance\n",
    "\n",
    "scoring = ['neg_mean_absolute_percentage_error', 'neg_mean_squared_error']\n",
    "\n",
    "r_multi = permutation_importance(model, X_val, y_val, n_repeats=30, random_state=0, scoring=scoring)\n",
    "\n",
    "for metric in r_multi:\n",
    "    print(f\"{metric}\")\n",
    "    r = r_multi[metric]\n",
    "    for i in r.importances_mean.argsort()[::-1]:\n",
    "        if r.importances_mean[i] - 2 * r.importances_std[i] > 0:\n",
    "            print(f\"    {diabetes.feature_names[i]:<8}\"   f\"{r.importances_mean[i]:.3f}\"   f\" +/- {r.importances_std[i]:.3f}\")\n",
    "            #print(r.importances)"
   ]
  },
  {
   "cell_type": "code",
   "execution_count": null,
   "id": "eff6dd45",
   "metadata": {},
   "outputs": [],
   "source": []
  },
  {
   "cell_type": "code",
   "execution_count": null,
   "id": "a7337953",
   "metadata": {},
   "outputs": [],
   "source": []
  },
  {
   "cell_type": "code",
   "execution_count": null,
   "id": "a9098f73",
   "metadata": {},
   "outputs": [],
   "source": []
  },
  {
   "cell_type": "code",
   "execution_count": 2,
   "id": "ff558fc8",
   "metadata": {},
   "outputs": [
    {
     "name": "stderr",
     "output_type": "stream",
     "text": [
      "D:\\Anaconda\\lib\\site-packages\\torch\\nn\\modules\\loss.py:536: UserWarning: Using a target size (torch.Size([80])) that is different to the input size (torch.Size([80, 1])). This will likely lead to incorrect results due to broadcasting. Please ensure they have the same size.\n",
      "  return F.mse_loss(input, target, reduction=self.reduction)\n"
     ]
    },
    {
     "name": "stdout",
     "output_type": "stream",
     "text": [
      "Initial RMSE: 0.5670\n"
     ]
    },
    {
     "data": {
      "image/png": "[encoded data removed]",
      "text/plain": [
       "<Figure size 432x288 with 1 Axes>"
      ]
     },
     "metadata": {
      "needs_background": "light"
     },
     "output_type": "display_data"
    }
   ],
   "source": [
    "import numpy as np\n",
    "import torch\n",
    "import torch.nn as nn\n",
    "import torch.optim as optim\n",
    "from sklearn.model_selection import train_test_split\n",
    "from sklearn.metrics import mean_squared_error\n",
    "\n",
    "# 生成示例数据\n",
    "np.random.seed(0)\n",
    "num_samples = 100\n",
    "time_steps = 10\n",
    "num_features = 3\n",
    "X = np.random.rand(num_samples, time_steps, num_features)\n",
    "y = np.sum(X, axis=2)[:, -1]  # 简化预测目标，为最后一个时间步特征的和\n",
    "\n",
    "# 划分数据集\n",
    "X_train, X_val, y_train, y_val = train_test_split(X, y, test_size=0.2, random_state=42)\n",
    "\n",
    "# 转换数据为PyTorch张量\n",
    "X_train_tensor = torch.tensor(X_train, dtype=torch.float32)\n",
    "y_train_tensor = torch.tensor(y_train, dtype=torch.float32)\n",
    "X_val_tensor = torch.tensor(X_val, dtype=torch.float32)\n",
    "\n",
    "# 定义LSTM模型\n",
    "class LSTMModel(nn.Module):\n",
    "    def __init__(self, input_size, hidden_size, output_size):\n",
    "        super(LSTMModel, self).__init__()\n",
    "        self.lstm = nn.LSTM(input_size, hidden_size, batch_first=True)\n",
    "        self.fc = nn.Linear(hidden_size, output_size)\n",
    "        \n",
    "    def forward(self, x):\n",
    "        output, _ = self.lstm(x)\n",
    "        output = self.fc(output[:, -1, :])\n",
    "        return output\n",
    "\n",
    "# 初始化模型、优化器和损失函数\n",
    "model = LSTMModel(input_size=num_features, hidden_size=50, output_size=1)\n",
    "optimizer = optim.Adam(model.parameters(), lr=0.001)\n",
    "criterion = nn.MSELoss()\n",
    "\n",
    "# 训练模型\n",
    "num_epochs = 50\n",
    "for epoch in range(num_epochs):\n",
    "    optimizer.zero_grad()\n",
    "    outputs = model(X_train_tensor)\n",
    "    loss = criterion(outputs, y_train_tensor)\n",
    "    loss.backward()\n",
    "    optimizer.step()\n",
    "\n",
    "# 计算初始性能\n",
    "with torch.no_grad():\n",
    "    y_val_pred = model(X_val_tensor)\n",
    "    initial_rmse = np.sqrt(mean_squared_error(y_val, y_val_pred.numpy()))\n",
    "    print(f\"Initial RMSE: {initial_rmse:.4f}\")\n",
    "\n",
    "# 计算排列特征重要性\n",
    "permutation_importances = []\n",
    "for feature_idx in range(num_features):\n",
    "    X_val_permuted = X_val.copy()\n",
    "    np.random.shuffle(X_val_permuted[:, :, feature_idx])\n",
    "    X_val_permuted_tensor = torch.tensor(X_val_permuted, dtype=torch.float32)\n",
    "    with torch.no_grad():\n",
    "        y_val_permuted_pred = model(X_val_permuted_tensor)\n",
    "        permuted_rmse = np.sqrt(mean_squared_error(y_val, y_val_permuted_pred.numpy()))\n",
    "        feature_importance = initial_rmse - permuted_rmse\n",
    "        permutation_importances.append(feature_importance)\n",
    "\n",
    "# 可视化特征重要性\n",
    "import matplotlib.pyplot as plt\n",
    "plt.bar(range(num_features), permutation_importances)\n",
    "plt.xticks(range(num_features), ['Feature 1', 'Feature 2', 'Feature 3'])\n",
    "plt.xlabel('Features')\n",
    "plt.ylabel('Permutation Feature Importance')\n",
    "plt.title('Permutation Feature Importance for LSTM (PyTorch)')\n",
    "plt.show()\n"
   ]
  },
  {
   "cell_type": "code",
   "execution_count": null,
   "id": "12f1bb11",
   "metadata": {},
   "outputs": [],
   "source": []
  },
  {
   "cell_type": "code",
   "execution_count": null,
   "id": "cece3fcf",
   "metadata": {},
   "outputs": [],
   "source": []
  }
 ],
 "metadata": {
  "hide_input": false,
  "kernelspec": {
   "display_name": "Python 3 (ipykernel)",
   "language": "python",
   "name": "python3"
  },
  "language_info": {
   "codemirror_mode": {
    "name": "ipython",
    "version": 3
   },
   "file_extension": ".py",
   "mimetype": "text/x-python",
   "name": "python",
   "nbconvert_exporter": "python",
   "pygments_lexer": "ipython3",
   "version": "3.9.12"
  },
  "varInspector": {
   "cols": {
    "lenName": 16,
    "lenType": 16,
    "lenVar": 40
   },
   "kernels_config": {
    "python": {
     "delete_cmd_postfix": "",
     "delete_cmd_prefix": "del ",
     "library": "var_list.py",
     "varRefreshCmd": "print(var_dic_list())"
    },
    "r": {
     "delete_cmd_postfix": ") ",
     "delete_cmd_prefix": "rm(",
     "library": "var_list.r",
     "varRefreshCmd": "cat(var_dic_list()) "
    }
   },
   "types_to_exclude": [
    "module",
    "function",
    "builtin_function_or_method",
    "instance",
    "_Feature"
   ],
   "window_display": false
  }
 },
 "nbformat": 4,
 "nbformat_minor": 5
}
